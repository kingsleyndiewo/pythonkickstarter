{
 "cells": [
  {
   "cell_type": "markdown",
   "metadata": {},
   "source": [
    "<h1>Control Structures</h1>"
   ]
  },
  {
   "cell_type": "markdown",
   "metadata": {},
   "source": [
    "<h2>Sequence</h2>"
   ]
  },
  {
   "cell_type": "markdown",
   "metadata": {},
   "source": [
    "<p>Python code is by default executed in order of entry - that is the first line you type is executed first and so on. This mode of execution is known as <b>sequence</b> and is found in almost all programming languages. Code executes in sequence unless explicitly made to act differently.</p>"
   ]
  },
  {
   "cell_type": "code",
   "execution_count": 1,
   "metadata": {},
   "outputs": [
    {
     "name": "stdout",
     "output_type": "stream",
     "text": [
      "I am also a string\n"
     ]
    }
   ],
   "source": [
    "a = 2\n",
    "b = 3\n",
    "c = 'I am a string'\n",
    "d = \"I am also a string\"\n",
    "e = \"\"\"I am a multiline string.\n",
    "I can stretch over more than one line,\n",
    "without a problem\"\"\"\n",
    "\n",
    "print(d)"
   ]
  },
  {
   "cell_type": "markdown",
   "metadata": {},
   "source": [
    "<p>The code above runs in sequence. The lines will execute from the assignment of a value to a down to the print statement. Sequence is our first control structure (mode of execution).</p>"
   ]
  },
  {
   "cell_type": "markdown",
   "metadata": {},
   "source": [
    "<h2>Selection</h2>"
   ]
  },
  {
   "cell_type": "markdown",
   "metadata": {},
   "source": [
    "<p>Our second control structure is <b>selection</b>. It allows for decision-making or branching in code. In selection, code executes selectively depending on the value of a condition. In pseudocode this would be:<br> <i>If &lt;some condition&gt; is true, run this &lt;block of code&gt;, otherwise run this &lt;other block of code&gt;</i></p>"
   ]
  },
  {
   "cell_type": "code",
   "execution_count": 2,
   "metadata": {},
   "outputs": [
    {
     "name": "stdin",
     "output_type": "stream",
     "text": [
      "Please enter an integer:  2\n"
     ]
    },
    {
     "name": "stdout",
     "output_type": "stream",
     "text": [
      "You have selected option 2\n"
     ]
    }
   ],
   "source": [
    "# get the input from the user\n",
    "choice = int(input('Please enter an integer: '))\n",
    "# respond based on the value\n",
    "# this is an if-elif-else structure\n",
    "if choice == 1:\n",
    "    print('You have selectied option 1')\n",
    "elif choice == 2:\n",
    "    print('You have selected option 2')\n",
    "elif choice == 3:\n",
    "    print('You have selected option 3')\n",
    "elif choice == 4:\n",
    "    print('You have selected option 4')\n",
    "elif choice == 5:\n",
    "    print('You have selected option 5')\n",
    "elif choice == 6:\n",
    "    print('You have selected option 6')\n",
    "else:\n",
    "    print('You have selected an option greater than 6')"
   ]
  },
  {
   "cell_type": "code",
   "execution_count": null,
   "metadata": {},
   "outputs": [],
   "source": []
  }
 ],
 "metadata": {
  "kernelspec": {
   "display_name": "Python 3 (ipykernel)",
   "language": "python",
   "name": "python3"
  },
  "language_info": {
   "codemirror_mode": {
    "name": "ipython",
    "version": 3
   },
   "file_extension": ".py",
   "mimetype": "text/x-python",
   "name": "python",
   "nbconvert_exporter": "python",
   "pygments_lexer": "ipython3",
   "version": "3.8.10"
  }
 },
 "nbformat": 4,
 "nbformat_minor": 4
}
