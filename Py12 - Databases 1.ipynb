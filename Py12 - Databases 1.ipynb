{
 "cells": [
  {
   "cell_type": "markdown",
   "metadata": {},
   "source": [
    "<h1>Databases I</h1>"
   ]
  },
  {
   "cell_type": "markdown",
   "metadata": {},
   "source": [
    "<p>A database is a systematic collection of information that supports manipulation and retrieval. Databases are important in programming because they allow for storage of information that can be retrived whenever the program is running. For our Virtual Bank project, so far our bank loses all data once it stops execution (when the user chooses to exit). With databases we can persist the records we create such that when we run it again, we still have the accounts and transactions from the previous session.</p>"
   ]
  },
  {
   "cell_type": "markdown",
   "metadata": {},
   "source": [
    "<h2>SQLite database</h2>"
   ]
  },
  {
   "cell_type": "markdown",
   "metadata": {},
   "source": [
    "<p>Python comes with a built-in database called SQLite, which can be used to quickly set up a persistence layer (means of persisting data) in your program. It is a file-based database that does not require a separate application or server to use.</p>"
   ]
  },
  {
   "cell_type": "code",
   "execution_count": 2,
   "metadata": {},
   "outputs": [],
   "source": [
    "# get the relevant module\n",
    "import sqlite3\n",
    "# create a connection object; this creates a file\n",
    "dbConn = sqlite3.connect('data/kingsley.db')"
   ]
  },
  {
   "cell_type": "markdown",
   "metadata": {},
   "source": [
    "<p>You can also supply the special name :memory: to create a database in RAM.</p>"
   ]
  },
  {
   "cell_type": "code",
   "execution_count": 3,
   "metadata": {},
   "outputs": [],
   "source": [
    "# a connection object specifying a RAM-based DB; this will not persist after closing the program\n",
    "ramConn = sqlite3.connect(':memory:')"
   ]
  },
  {
   "cell_type": "markdown",
   "metadata": {},
   "source": [
    "<p>A cursor object is created from the connection object. This is what is used to execute queries, fetch results and get information on the database. The connection object is used to save changes and close the connection.</p>"
   ]
  },
  {
   "cell_type": "code",
   "execution_count": 4,
   "metadata": {},
   "outputs": [],
   "source": [
    "# create the cursors\n",
    "dbCursor = dbConn.cursor()\n",
    "ramCursor = ramConn.cursor()"
   ]
  },
  {
   "cell_type": "markdown",
   "metadata": {},
   "source": [
    "<h3>Queries</h3>"
   ]
  },
  {
   "cell_type": "markdown",
   "metadata": {},
   "source": [
    "<p>Queries are commands that are run against a database to manipulate the data stored in it. Common queries are <b>CREATE</b>, <b>INSERT</b>, <b>SELECT</b>, <b>UPDATE</b> and <b>DELETE</b>.</p>"
   ]
  },
  {
   "cell_type": "markdown",
   "metadata": {},
   "source": [
    "<p>Each value stored in an SQLite databasehas one of the following storage classes:\n",
    "    <ul>\n",
    "        <li><b>NULL</b> The value is a NULL value.</li>\n",
    "        <li><b>INTEGER</b> The value is a signed integer, stored in 1, 2, 3, 4, 6, or 8 bytes depending on the magnitude of the value.</li>\n",
    "        <li><b>REAL</b> The value is a floating point value, stored as an 8-byte IEEE floating point number.</li>\n",
    "        <li><b>TEXT</b> The value is a text string, stored using the database encoding (UTF-8, UTF-16BE or UTF-16LE).</li>\n",
    "        <li><b>BLOB</b> The value is a blob of data, stored exactly as it was input.</li>\n",
    "    </ul>\n",
    "</p>"
   ]
  },
  {
   "cell_type": "code",
   "execution_count": 5,
   "metadata": {},
   "outputs": [
    {
     "data": {
      "text/plain": [
       "<sqlite3.Cursor at 0x7f45c00ce030>"
      ]
     },
     "execution_count": 5,
     "metadata": {},
     "output_type": "execute_result"
    }
   ],
   "source": [
    "# define the CREATE query for a table - accounts\n",
    "queryStr = 'CREATE TABLE accounts (name text, ss_id text, phone text, balance integer, age integer, password text)'\n",
    "# execute the query using each cursor\n",
    "try:\n",
    "    dbCursor.execute(queryStr)\n",
    "except sqlite3.OperationalError:\n",
    "    print('The table already exists')\n",
    "ramCursor.execute(queryStr)"
   ]
  },
  {
   "cell_type": "code",
   "execution_count": 6,
   "metadata": {},
   "outputs": [],
   "source": [
    "# save (commit) the changes using the connection object\n",
    "dbConn.commit()\n",
    "ramConn.commit()"
   ]
  },
  {
   "cell_type": "code",
   "execution_count": 7,
   "metadata": {},
   "outputs": [
    {
     "data": {
      "text/plain": [
       "<sqlite3.Cursor at 0x7f45c00ce030>"
      ]
     },
     "execution_count": 7,
     "metadata": {},
     "output_type": "execute_result"
    }
   ],
   "source": [
    "# create a record\n",
    "data = ('Annika Bolund', '197702038877', '0729776303', 50000, 30, 'bolund')\n",
    "queryStr = 'INSERT INTO accounts VALUES (?, ?, ?, ?, ?, ?)'\n",
    "dbCursor.execute(queryStr, data)\n",
    "ramCursor.execute(queryStr, data)"
   ]
  },
  {
   "cell_type": "code",
   "execution_count": 8,
   "metadata": {},
   "outputs": [
    {
     "name": "stdout",
     "output_type": "stream",
     "text": [
      "Affected rows in file DB: 1\n",
      "Affected rows in RAM DB: 1\n"
     ]
    }
   ],
   "source": [
    "# check affected rows\n",
    "print(f'Affected rows in file DB: {dbCursor.rowcount}')\n",
    "print(f'Affected rows in RAM DB: {ramCursor.rowcount}')"
   ]
  },
  {
   "cell_type": "code",
   "execution_count": 9,
   "metadata": {},
   "outputs": [
    {
     "data": {
      "text/plain": [
       "<sqlite3.Cursor at 0x7f45c00ce030>"
      ]
     },
     "execution_count": 9,
     "metadata": {},
     "output_type": "execute_result"
    }
   ],
   "source": [
    "# add multiple records\n",
    "data = [('Mary Svensson', '197709230011', '0733402387', 45000, 32, 'svensson'), ('Kate Smith', '198811180922', '0753001928', 109000, 27, 'smith'), \n",
    "    ('Jackson Wafula', '190210179112', '0721109833', 80000, 59, 'jackula')]\n",
    "dbCursor.executemany(queryStr, data)\n",
    "ramCursor.executemany(queryStr, data)"
   ]
  },
  {
   "cell_type": "code",
   "execution_count": 10,
   "metadata": {},
   "outputs": [
    {
     "name": "stdout",
     "output_type": "stream",
     "text": [
      "Affected rows in file DB: 3\n",
      "Affected rows in RAM DB: 3\n"
     ]
    }
   ],
   "source": [
    "# check affected rows\n",
    "print(f'Affected rows in file DB: {dbCursor.rowcount}')\n",
    "print(f'Affected rows in RAM DB: {ramCursor.rowcount}')"
   ]
  },
  {
   "cell_type": "code",
   "execution_count": 11,
   "metadata": {},
   "outputs": [],
   "source": [
    "# save (commit) the changes using the connection object\n",
    "dbConn.commit()\n",
    "ramConn.commit()"
   ]
  },
  {
   "cell_type": "code",
   "execution_count": 12,
   "metadata": {},
   "outputs": [
    {
     "data": {
      "text/plain": [
       "<sqlite3.Cursor at 0x7f45c00ce030>"
      ]
     },
     "execution_count": 12,
     "metadata": {},
     "output_type": "execute_result"
    }
   ],
   "source": [
    "# read records from the database\n",
    "queryStr = 'SELECT * FROM accounts'\n",
    "dbCursor.execute(queryStr)\n",
    "ramCursor.execute(queryStr)"
   ]
  },
  {
   "cell_type": "markdown",
   "metadata": {},
   "source": [
    "<p>For SQLite specifically, rowcount does not return the number of rows for SELECT queries. We can therefore just use the built-in len() to find out the number of rows fetched.</p>"
   ]
  },
  {
   "cell_type": "code",
   "execution_count": 13,
   "metadata": {},
   "outputs": [
    {
     "name": "stdout",
     "output_type": "stream",
     "text": [
      "[('Annika Bolund', '197702038877', '0729776303', 50000, 30, 'bolund'), ('Mary Svensson', '197709230011', '0733402387', 45000, 32, 'svensson'), ('Kate Smith', '198811180922', '0753001928', 109000, 27, 'smith'), ('Jackson Wafula', '190210179112', '0721109833', 80000, 59, 'jackula')]\n",
      "[('Annika Bolund', '197702038877', '0729776303', 50000, 30, 'bolund'), ('Mary Svensson', '197709230011', '0733402387', 45000, 32, 'svensson'), ('Kate Smith', '198811180922', '0753001928', 109000, 27, 'smith'), ('Jackson Wafula', '190210179112', '0721109833', 80000, 59, 'jackula')]\n"
     ]
    }
   ],
   "source": [
    "# fetch the results\n",
    "rows = dbCursor.fetchall()\n",
    "rowsRam = ramCursor.fetchall()\n",
    "# check if we have any rows\n",
    "if len(rows) > 0:\n",
    "    print(rows)\n",
    "else:\n",
    "    print('No records found')\n",
    "    \n",
    "if len(rowsRam) > 0:\n",
    "    print(rowsRam)\n",
    "else:\n",
    "    print('No records found in RAM')"
   ]
  },
  {
   "cell_type": "markdown",
   "metadata": {},
   "source": [
    "<p>Test the persistence by closing the program and then running it again. Do not insert any data, just read and see if each database retains the data.</p>"
   ]
  },
  {
   "cell_type": "code",
   "execution_count": 14,
   "metadata": {},
   "outputs": [
    {
     "name": "stdout",
     "output_type": "stream",
     "text": [
      "('Annika Bolund', '197702038877', '0729776303', 50000, 30, 'bolund')\n"
     ]
    }
   ],
   "source": [
    "# fetch one specific result\n",
    "queryStr = 'SELECT * FROM accounts WHERE name = ?'\n",
    "dbCursor.execute(queryStr, ('Annika Bolund',))\n",
    "row = dbCursor.fetchone()\n",
    "print(row)"
   ]
  },
  {
   "cell_type": "code",
   "execution_count": 15,
   "metadata": {},
   "outputs": [
    {
     "name": "stdout",
     "output_type": "stream",
     "text": [
      "[('Kate Smith', '198811180922', '0753001928', 109000, 27, 'smith'), ('Jackson Wafula', '190210179112', '0721109833', 80000, 59, 'jackula')]\n"
     ]
    }
   ],
   "source": [
    "# fetch a batch based on a condition\n",
    "queryStr = 'SELECT * FROM accounts WHERE balance > ?'\n",
    "dbCursor.execute(queryStr, (75000,))\n",
    "rows = dbCursor.fetchall()\n",
    "if len(rows) > 0:\n",
    "    print(rows)\n",
    "else:\n",
    "    print('No records found')"
   ]
  },
  {
   "cell_type": "code",
   "execution_count": 16,
   "metadata": {},
   "outputs": [],
   "source": [
    "# update a result\n",
    "queryStr = 'UPDATE accounts SET balance = ? WHERE name = ?'\n",
    "dbCursor.execute(queryStr, (65000, 'Annika Bolund'))\n",
    "# save (commit) the changes using the connection object\n",
    "dbConn.commit()"
   ]
  },
  {
   "cell_type": "code",
   "execution_count": 17,
   "metadata": {},
   "outputs": [
    {
     "name": "stdout",
     "output_type": "stream",
     "text": [
      "('Annika Bolund', '197702038877', '0729776303', 65000, 30, 'bolund')\n"
     ]
    }
   ],
   "source": [
    "# check to confirm changes\n",
    "queryStr = 'SELECT * FROM accounts WHERE name = ?'\n",
    "dbCursor.execute(queryStr, ('Annika Bolund',))\n",
    "row = dbCursor.fetchone()\n",
    "print(row)"
   ]
  },
  {
   "cell_type": "code",
   "execution_count": 18,
   "metadata": {},
   "outputs": [],
   "source": [
    "# delete a record\n",
    "queryStr = 'DELETE FROM accounts WHERE name = ?'\n",
    "dbCursor.execute(queryStr, ('Mary Svensson',))\n",
    "# save (commit) the changes using the connection object\n",
    "dbConn.commit()"
   ]
  },
  {
   "cell_type": "code",
   "execution_count": 19,
   "metadata": {},
   "outputs": [
    {
     "name": "stdout",
     "output_type": "stream",
     "text": [
      "None\n"
     ]
    }
   ],
   "source": [
    "# check to confirm changes\n",
    "queryStr = 'SELECT * FROM accounts WHERE name = ?'\n",
    "dbCursor.execute(queryStr, ('Mary Svensson',))\n",
    "row = dbCursor.fetchone()\n",
    "print(row)"
   ]
  }
 ],
 "metadata": {
  "kernelspec": {
   "display_name": "Python 3",
   "language": "python",
   "name": "python3"
  },
  "language_info": {
   "codemirror_mode": {
    "name": "ipython",
    "version": 3
   },
   "file_extension": ".py",
   "mimetype": "text/x-python",
   "name": "python",
   "nbconvert_exporter": "python",
   "pygments_lexer": "ipython3",
   "version": "3.8.10"
  }
 },
 "nbformat": 4,
 "nbformat_minor": 4
}
