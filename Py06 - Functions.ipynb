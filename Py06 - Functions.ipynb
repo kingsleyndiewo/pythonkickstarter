{
 "cells": [
  {
   "cell_type": "markdown",
   "metadata": {},
   "source": [
    "<h2>Functions</h2>"
   ]
  },
  {
   "cell_type": "markdown",
   "metadata": {},
   "source": [
    "<h3>Defining a simple function</h3>"
   ]
  },
  {
   "cell_type": "code",
   "execution_count": 1,
   "metadata": {},
   "outputs": [
    {
     "name": "stdout",
     "output_type": "stream",
     "text": [
      "6\n",
      "121\n"
     ]
    }
   ],
   "source": [
    "def addNums(a, b):\n",
    "    '''Adds two numbers and returns the result'''\n",
    "    return a + b\n",
    "# make the function calls\n",
    "print(addNums(2,4))\n",
    "print(addNums(34,87))"
   ]
  },
  {
   "cell_type": "code",
   "execution_count": 2,
   "metadata": {},
   "outputs": [
    {
     "name": "stdout",
     "output_type": "stream",
     "text": [
      "Hello! Bonjour!\n"
     ]
    }
   ],
   "source": [
    "def greeter():\n",
    "    '''Prints out a greeting'''\n",
    "    print('Hello! Bonjour!')\n",
    "# make the function call\n",
    "greeter()"
   ]
  },
  {
   "cell_type": "markdown",
   "metadata": {},
   "source": [
    "<h3>Default Arguments</h3>"
   ]
  },
  {
   "cell_type": "code",
   "execution_count": 3,
   "metadata": {},
   "outputs": [
    {
     "name": "stdout",
     "output_type": "stream",
     "text": [
      "The property is located in Langata and has 3 bedrooms, going for 45000 KES per month. It is an apartment and pets are not allowed. There is no service charge.\n",
      "The property is located in Nyari and has 4 bedrooms, going for 130000 KES per month. It is not an apartment and pets are allowed. There is a 15000 KES service charge.\n",
      "The property is located in Westlands and has 2 bedrooms, going for 50000 KES per month. It is an apartment and pets are allowed. There is a 3000 KES service charge.\n"
     ]
    }
   ],
   "source": [
    "# the function has some arguments with default values, making them optional\n",
    "def house(location, bedrooms, rent, apartment=True, pets=False, sCharge=0):\n",
    "    # check the flags\n",
    "    if apartment == True:\n",
    "        apt = 'is'\n",
    "    else:\n",
    "        apt = 'is not'\n",
    "    if pets == True:\n",
    "        petsAllowed = 'allowed'\n",
    "    else:\n",
    "        petsAllowed = 'not allowed'\n",
    "    if sCharge == 0:\n",
    "        sc = 'no'\n",
    "    else:\n",
    "        sc = f'a {sCharge} KES'\n",
    "    print(f'The property is located in {location} and has {bedrooms} bedrooms, going for {rent} KES per month. It {apt} an apartment and pets are {petsAllowed}. There is {sc} service charge.')\n",
    "# make some function calls\n",
    "house('Langata', 3, 45000)\n",
    "house('Nyari', 4, 130000, False, True, 15000)\n",
    "house('Westlands', 2, 50000, True, 1, 3000)"
   ]
  },
  {
   "cell_type": "markdown",
   "metadata": {},
   "source": [
    "<p>Default arguments must always follow all non-default arguments</p>\n",
    "<h3>Keyword Arguments</h3>"
   ]
  },
  {
   "cell_type": "code",
   "execution_count": 4,
   "metadata": {},
   "outputs": [
    {
     "name": "stdout",
     "output_type": "stream",
     "text": [
      "The property is located in Kileleshwa and has 3 bedrooms, going for 50000 KES per month. It is an apartment and pets are not allowed. There is a 3000 KES service charge.\n"
     ]
    }
   ],
   "source": [
    "# enter the last argument while leaving the preceding two to their defaults\n",
    "house('Kileleshwa', 3, 50000, sCharge=3000)"
   ]
  },
  {
   "cell_type": "markdown",
   "metadata": {},
   "source": [
    "<h3>Argument Lists</h3>"
   ]
  },
  {
   "cell_type": "markdown",
   "metadata": {},
   "source": [
    "<p>For functions where the number of arguments is variable, argument lists can be used effectively. Ordinary argument lists are defined as *args while keyword argument lists are defined as **kwargs</p>"
   ]
  },
  {
   "cell_type": "code",
   "execution_count": 5,
   "metadata": {},
   "outputs": [
    {
     "name": "stdout",
     "output_type": "stream",
     "text": [
      "5\n",
      "12\n",
      "71\n"
     ]
    }
   ],
   "source": [
    "# define function with variable argument count\n",
    "def addNumbers(a, b, *c):\n",
    "    # add mandatory arguments first\n",
    "    total = a + b\n",
    "    # loop and add the list of optional arguments\n",
    "    for x in c:\n",
    "        total += x\n",
    "    # return the result\n",
    "    return total\n",
    "# example calls\n",
    "print(addNumbers(2, 3))\n",
    "print(addNumbers(2, 3, 7))\n",
    "print(addNumbers(5, 9, 23, 17, 7, 10))\n",
    "    "
   ]
  },
  {
   "cell_type": "code",
   "execution_count": 6,
   "metadata": {},
   "outputs": [
    {
     "name": "stdout",
     "output_type": "stream",
     "text": [
      "You have selected a salami sandwich with honey oat bread and the following condiments: salt, sriracha, sweetonion. Enjoy your sandwich.\n"
     ]
    }
   ],
   "source": [
    "# define function with variable keyword argument count\n",
    "def sandwich(bread, meat, **condiments):\n",
    "    # process condiment list\n",
    "    chosenCondiments = ''\n",
    "    for c in condiments:\n",
    "        if condiments[c] == True:\n",
    "            chosenCondiments += f'{c}, '\n",
    "    # output sandwich choice\n",
    "    print(f'You have selected a {meat} sandwich with {bread} bread and the following condiments: {chosenCondiments[:-2]}. Enjoy your sandwich.')\n",
    "# example calls\n",
    "sandwich('honey oat', 'salami', salt=True, sriracha=True, mustard=False, sweetonion=True)"
   ]
  },
  {
   "cell_type": "markdown",
   "metadata": {},
   "source": [
    "<h3>Docstrings</h3>"
   ]
  },
  {
   "cell_type": "markdown",
   "metadata": {},
   "source": [
    "<p>Docstrings are 'documentation strings', a way for the programmer to document (provide a description) for a function (or class) in its definition. Many 3rd-party tools and some internal Python tools use docstrings to automatically generate documentation for your code.</p>"
   ]
  },
  {
   "cell_type": "code",
   "execution_count": 7,
   "metadata": {},
   "outputs": [],
   "source": [
    "def sandwich(bread, meat, **condiments):\n",
    "    \"\"\"Processes a sandwich order\n",
    "\n",
    "    Parameters:\n",
    "    bread (str): The type of bread to use e.g. honey oat, brown\n",
    "    meat (str): The type of meat to use e.g. salami, kassler\n",
    "    **condiments (keyword args): Named condiments to use on the sandwich e.g. salt=True, ketchup=False\n",
    "\n",
    "    Returns:\n",
    "    str: A readout of the entire order\n",
    "\n",
    "   \"\"\"\n",
    "    # process condiment list\n",
    "    chosenCondiments = ''\n",
    "    for c in condiments:\n",
    "        if condiments[c] == True:\n",
    "            chosenCondiments += f'{c}, '\n",
    "    # output sandwich choice\n",
    "    return f'You have selected a {meat} sandwich with {bread} bread and the following condiments: {chosenCondiments[:-2]}. Enjoy your sandwich.'    "
   ]
  },
  {
   "cell_type": "code",
   "execution_count": 8,
   "metadata": {},
   "outputs": [
    {
     "name": "stdout",
     "output_type": "stream",
     "text": [
      "Processes a sandwich order\n",
      "\n",
      "    Parameters:\n",
      "    bread (str): The type of bread to use e.g. honey oat, brown\n",
      "    meat (str): The type of meat to use e.g. salami, kassler\n",
      "    **condiments (keyword args): Named condiments to use on the sandwich e.g. salt=True, ketchup=False\n",
      "\n",
      "    Returns:\n",
      "    str: A readout of the entire order\n",
      "\n",
      "   \n"
     ]
    }
   ],
   "source": [
    "# print the docstring\n",
    "print(sandwich.__doc__)"
   ]
  },
  {
   "cell_type": "code",
   "execution_count": 9,
   "metadata": {},
   "outputs": [
    {
     "name": "stdout",
     "output_type": "stream",
     "text": [
      "Help on function sandwich in module __main__:\n",
      "\n",
      "sandwich(bread, meat, **condiments)\n",
      "    Processes a sandwich order\n",
      "    \n",
      "    Parameters:\n",
      "    bread (str): The type of bread to use e.g. honey oat, brown\n",
      "    meat (str): The type of meat to use e.g. salami, kassler\n",
      "    **condiments (keyword args): Named condiments to use on the sandwich e.g. salt=True, ketchup=False\n",
      "    \n",
      "    Returns:\n",
      "    str: A readout of the entire order\n",
      "\n"
     ]
    }
   ],
   "source": [
    "# use built-in help function\n",
    "help(sandwich)"
   ]
  },
  {
   "cell_type": "markdown",
   "metadata": {},
   "source": [
    "<h3>Function Annotations</h3>"
   ]
  },
  {
   "cell_type": "markdown",
   "metadata": {},
   "source": [
    "<p>These are optional details set in a function definition to describe the data type of arguments or return values. They are meant for documentation purposes and have no effect on the function itself.</p>"
   ]
  },
  {
   "cell_type": "code",
   "execution_count": 10,
   "metadata": {},
   "outputs": [],
   "source": [
    "def sandwich(bread: str, meat: str, **condiments: bool) -> str:\n",
    "    # process condiment list\n",
    "    chosenCondiments = ''\n",
    "    for c in condiments:\n",
    "        if condiments[c] == True:\n",
    "            chosenCondiments += f'{c}, '\n",
    "    # output sandwich choice\n",
    "    print(f'You have selected a {meat} sandwich with {bread} bread and the following condiments: {chosenCondiments[:-2]}. Enjoy your sandwich.')"
   ]
  },
  {
   "cell_type": "code",
   "execution_count": 11,
   "metadata": {},
   "outputs": [
    {
     "name": "stdout",
     "output_type": "stream",
     "text": [
      "Annotations: {'bread': <class 'str'>, 'meat': <class 'str'>, 'condiments': <class 'bool'>, 'return': <class 'str'>}\n"
     ]
    }
   ],
   "source": [
    "# print the annotations\n",
    "print(\"Annotations:\", sandwich.__annotations__)"
   ]
  },
  {
   "cell_type": "code",
   "execution_count": 12,
   "metadata": {},
   "outputs": [
    {
     "name": "stdout",
     "output_type": "stream",
     "text": [
      "You have selected a salami sandwich with honey oat bread and the following condiments: salt, sriracha, sweetonion. Enjoy your sandwich.\n"
     ]
    }
   ],
   "source": [
    "# make a function call\n",
    "sandwich('honey oat', 'salami', salt=True, sriracha=True, mustard=False, sweetonion=True)"
   ]
  },
  {
   "cell_type": "markdown",
   "metadata": {},
   "source": [
    "<h2>Lambda Functions</h2>"
   ]
  },
  {
   "cell_type": "markdown",
   "metadata": {},
   "source": [
    "<p>Lambda functions are small anonymous functions created usually on a single line and defined using the <b>lambda</b> keyword. They are syntactically restricted to a single expression. Semantically, they are just shorthand for a normal function definition.</p>"
   ]
  },
  {
   "cell_type": "code",
   "execution_count": 13,
   "metadata": {},
   "outputs": [
    {
     "name": "stdout",
     "output_type": "stream",
     "text": [
      "8\n"
     ]
    }
   ],
   "source": [
    "# a function that returns the value of x raised to the power y\n",
    "f = lambda x, y: x ** y\n",
    "# an ordinary function call\n",
    "print(f(2, 3))\n",
    "# the lambda function above is exactly equivalent to:\n",
    "def raisedTo(x, y):\n",
    "    return x ** y"
   ]
  },
  {
   "cell_type": "markdown",
   "metadata": {},
   "source": [
    "<p>A common use of lambda functions is to pass a small function as an argument</p>"
   ]
  },
  {
   "cell_type": "code",
   "execution_count": 14,
   "metadata": {},
   "outputs": [
    {
     "name": "stdout",
     "output_type": "stream",
     "text": [
      "[(1, 'Jack'), (2, 'Mary'), (3, 'William'), (4, 'Gustav'), (5, 'Linda'), (6, 'Joanna'), (7, 'Zubeida')]\n",
      "[(4, 'Gustav'), (1, 'Jack'), (6, 'Joanna'), (5, 'Linda'), (2, 'Mary'), (3, 'William'), (7, 'Zubeida')]\n"
     ]
    }
   ],
   "source": [
    "# suppose we want to sort the list below by the name of the member\n",
    "members = [(1, 'Jack'), (2, 'Mary'), (3, 'William'), (4, 'Gustav'), (5, 'Linda'), (6, 'Joanna'), (7, 'Zubeida')]\n",
    "# using list.sort sorts the elements by the integer in each element's tuple first element\n",
    "members.sort()\n",
    "print(members)\n",
    "# we can use a lambda function to sort using the element's tuple second element (i.e. the name)\n",
    "members.sort(key=lambda member: member[1])\n",
    "print(members)"
   ]
  }
 ],
 "metadata": {
  "kernelspec": {
   "display_name": "Python 3",
   "language": "python",
   "name": "python3"
  },
  "language_info": {
   "codemirror_mode": {
    "name": "ipython",
    "version": 3
   },
   "file_extension": ".py",
   "mimetype": "text/x-python",
   "name": "python",
   "nbconvert_exporter": "python",
   "pygments_lexer": "ipython3",
   "version": "3.8.5"
  }
 },
 "nbformat": 4,
 "nbformat_minor": 4
}
