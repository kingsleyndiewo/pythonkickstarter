{
 "cells": [
  {
   "cell_type": "markdown",
   "metadata": {},
   "source": [
    "<h1>Control Structures 2</h1>"
   ]
  },
  {
   "cell_type": "markdown",
   "metadata": {},
   "source": [
    "<h2>Repetition</h2>"
   ]
  },
  {
   "cell_type": "markdown",
   "metadata": {},
   "source": [
    "<p>Our final control structure is <b>repetition</b>. Repetition (also called iteration) allows us to execute a particular block of code more than once. There are two kinds of repetition in Python. <b>Counter-controlled repetition</b> where a block of code is repeated a fixed number of times. The counter may be provided by a list of some sort. The pseudocode would be: <br>\n",
    "<i>While &lt;some counter&gt; is not zero, repeat some block of code and decrement the counter by one, until &lt;some counter&gt; becomes zero.</i><br>\n",
    "    <b>Sentinel-controlled repetition</b> on the other hand is where a block of code is repeated until some condition evaluates to False. The pseudocode would be: <br>\n",
    "    <i>While &lt;some condition&gt; is true, repeat some block of code, until &lt;some condition&gt; becomes false.</i></p>"
   ]
  },
  {
   "cell_type": "markdown",
   "metadata": {},
   "source": [
    "<h3>Counter-controlled repetition</h3>"
   ]
  },
  {
   "cell_type": "code",
   "execution_count": 1,
   "metadata": {},
   "outputs": [
    {
     "name": "stdout",
     "output_type": "stream",
     "text": [
      "This is line number 1\n",
      "This is line number 2\n",
      "This is line number 3\n",
      "This is line number 4\n",
      "This is line number 5\n",
      "This is line number 6\n",
      "This is line number 7\n",
      "This is line number 8\n",
      "This is line number 9\n",
      "This is line number 10\n"
     ]
    }
   ],
   "source": [
    "# for loop is used for CCR\n",
    "for x in range(10):\n",
    "    print(f'This is line number {x + 1}')"
   ]
  },
  {
   "cell_type": "markdown",
   "metadata": {},
   "source": [
    "<h3>Sentinel-controlled repetition</h3>"
   ]
  },
  {
   "cell_type": "code",
   "execution_count": 2,
   "metadata": {},
   "outputs": [
    {
     "name": "stdout",
     "output_type": "stream",
     "text": [
      "The current choice is 1\n",
      "The current choice is 4\n",
      "The current choice is 3\n",
      "Goodbye\n"
     ]
    }
   ],
   "source": [
    "# while loop is used for SCR\n",
    "choice = 1\n",
    "while choice != 0:\n",
    "    print(f'The current choice is {choice}')\n",
    "    # get the next choice\n",
    "    choice = input('Please enter an integer or 0 to exit: ')\n",
    "    choice = int(choice)\n",
    "print('Goodbye')\n",
    "    "
   ]
  },
  {
   "cell_type": "markdown",
   "metadata": {},
   "source": [
    "<h2>Exercise</h2>"
   ]
  },
  {
   "cell_type": "markdown",
   "metadata": {},
   "source": [
    "<ol>\n",
    "<li>Write a Python script that uses counter-controlled repetition to loop through the list ['Magdalene', 'Joseph', 'Diana', 'Maxim', 'Consolata', 'Kevin', 'Michael'] and print out the longest name.\n",
    "HINT: To get the length of a string, use <b>len(mystring)</b></li>\n",
    "<li>Write a Python script that uses sentinel-controlled repetition to request integers from a user until they enter 'stop' and then print out the sum of the integers entered</li>\n",
    "</ol>\n",
    "<p>len() is a built-in function in Python.</p>"
   ]
  },
  {
   "cell_type": "code",
   "execution_count": null,
   "metadata": {},
   "outputs": [],
   "source": []
  }
 ],
 "metadata": {
  "kernelspec": {
   "display_name": "Python 3",
   "language": "python",
   "name": "python3"
  },
  "language_info": {
   "codemirror_mode": {
    "name": "ipython",
    "version": 3
   },
   "file_extension": ".py",
   "mimetype": "text/x-python",
   "name": "python",
   "nbconvert_exporter": "python",
   "pygments_lexer": "ipython3",
   "version": "3.8.10"
  }
 },
 "nbformat": 4,
 "nbformat_minor": 4
}
