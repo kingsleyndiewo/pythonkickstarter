{
 "cells": [
  {
   "cell_type": "markdown",
   "metadata": {},
   "source": [
    "<h1>Iterables</h1>"
   ]
  },
  {
   "cell_type": "markdown",
   "metadata": {},
   "source": [
    "<h3>Lists<h3>"
   ]
  },
  {
   "cell_type": "code",
   "execution_count": 1,
   "metadata": {},
   "outputs": [],
   "source": [
    "# define a few lists\n",
    "a = [0,1,2,3,4,5,6,7]\n",
    "b = [2,4,6,8,10,12,14]\n",
    "c = ['gate', 'jump', 'apple', 'lamp', 'apprentice', 'zebra', 'balloon']"
   ]
  },
  {
   "cell_type": "markdown",
   "metadata": {},
   "source": [
    "<h4>Demonstrate some list methods</h4>"
   ]
  },
  {
   "cell_type": "code",
   "execution_count": 2,
   "metadata": {},
   "outputs": [
    {
     "name": "stdout",
     "output_type": "stream",
     "text": [
      "[0, 1, 2, 3, 4, 5, 6, 7, 8]\n"
     ]
    }
   ],
   "source": [
    "# append\n",
    "a.append(8)\n",
    "print(a)"
   ]
  },
  {
   "cell_type": "code",
   "execution_count": 3,
   "metadata": {},
   "outputs": [
    {
     "name": "stdout",
     "output_type": "stream",
     "text": [
      "[2, 4, 6, 8, 10, 12, 14, 'gate', 'jump', 'apple', 'lamp', 'apprentice', 'zebra', 'balloon']\n"
     ]
    }
   ],
   "source": [
    "# extend\n",
    "b.extend(c)\n",
    "print(b)"
   ]
  },
  {
   "cell_type": "code",
   "execution_count": 4,
   "metadata": {},
   "outputs": [
    {
     "name": "stdout",
     "output_type": "stream",
     "text": [
      "['gate', 'jump', 'apple', 'coriander', 'lamp', 'apprentice', 'zebra', 'balloon']\n"
     ]
    }
   ],
   "source": [
    "# insert\n",
    "c.insert(3, 'coriander')\n",
    "print(c)"
   ]
  },
  {
   "cell_type": "code",
   "execution_count": 5,
   "metadata": {},
   "outputs": [
    {
     "name": "stdout",
     "output_type": "stream",
     "text": [
      "[2, 4, 6, 8, 10, 12, 14, 'gate', 'apple', 'lamp', 'apprentice', 'zebra', 'balloon']\n"
     ]
    }
   ],
   "source": [
    "# remove\n",
    "try:\n",
    "    b.remove('jump')\n",
    "    print(b)\n",
    "except ValueError:\n",
    "    print('Specified value not in list')"
   ]
  },
  {
   "cell_type": "code",
   "execution_count": 6,
   "metadata": {},
   "outputs": [
    {
     "name": "stdout",
     "output_type": "stream",
     "text": [
      "[2, 4, 6, 8, 10, 12, 14, 'gate', 'apple', 'lamp', 'apprentice', 'zebra']\n",
      "[2, 4, 6, 8, 10, 12, 14, 'gate', 'apple', 'apprentice', 'zebra']\n"
     ]
    }
   ],
   "source": [
    "# pop\n",
    "b.pop()\n",
    "print(b)\n",
    "b.pop(9)\n",
    "print(b)"
   ]
  },
  {
   "cell_type": "code",
   "execution_count": 7,
   "metadata": {},
   "outputs": [
    {
     "name": "stdout",
     "output_type": "stream",
     "text": [
      "zebra\n"
     ]
    }
   ],
   "source": [
    "# note that pop returns the value removed\n",
    "print(b.pop())"
   ]
  },
  {
   "cell_type": "code",
   "execution_count": 8,
   "metadata": {},
   "outputs": [
    {
     "name": "stdout",
     "output_type": "stream",
     "text": [
      "[0, 1, 2, 3, 4, 5, 6, 7, 8]\n",
      "[]\n"
     ]
    }
   ],
   "source": [
    "# clear\n",
    "d = a\n",
    "print(d)\n",
    "d.clear()\n",
    "print(d)"
   ]
  },
  {
   "cell_type": "code",
   "execution_count": 9,
   "metadata": {},
   "outputs": [
    {
     "data": {
      "text/plain": [
       "6"
      ]
     },
     "execution_count": 9,
     "metadata": {},
     "output_type": "execute_result"
    }
   ],
   "source": [
    "# index\n",
    "c.index('zebra')"
   ]
  },
  {
   "cell_type": "code",
   "execution_count": 10,
   "metadata": {},
   "outputs": [
    {
     "data": {
      "text/plain": [
       "3"
      ]
     },
     "execution_count": 10,
     "metadata": {},
     "output_type": "execute_result"
    }
   ],
   "source": [
    "# count\n",
    "e = ['Jim', 'Sam', 'Tara', 'Leon', 'Vanessa', 'Leon', 'Kenneth', 'Sam', 'Sandra', 'Bob', 'Carla', 'Leon']\n",
    "e.count('Leon')"
   ]
  },
  {
   "cell_type": "code",
   "execution_count": 11,
   "metadata": {},
   "outputs": [
    {
     "name": "stdout",
     "output_type": "stream",
     "text": [
      "['Bob', 'Carla', 'Jim', 'Kenneth', 'Leon', 'Leon', 'Leon', 'Sam', 'Sam', 'Sandra', 'Tara', 'Vanessa']\n"
     ]
    }
   ],
   "source": [
    "# sort\n",
    "e.sort()\n",
    "print(e)"
   ]
  },
  {
   "cell_type": "code",
   "execution_count": 12,
   "metadata": {},
   "outputs": [
    {
     "name": "stdout",
     "output_type": "stream",
     "text": [
      "['Vanessa', 'Tara', 'Sandra', 'Sam', 'Sam', 'Leon', 'Leon', 'Leon', 'Kenneth', 'Jim', 'Carla', 'Bob']\n"
     ]
    }
   ],
   "source": [
    "# reverse\n",
    "e.reverse()\n",
    "print(e)"
   ]
  },
  {
   "cell_type": "code",
   "execution_count": 13,
   "metadata": {},
   "outputs": [
    {
     "name": "stdout",
     "output_type": "stream",
     "text": [
      "['Vanessa', 'Tara', 'Sam', 'Sam', 'Leon', 'Leon', 'Leon', 'Kenneth', 'Jim', 'Carla', 'Bob']\n"
     ]
    }
   ],
   "source": [
    "# del statement\n",
    "del e[2]\n",
    "print(e)"
   ]
  },
  {
   "cell_type": "markdown",
   "metadata": {},
   "source": [
    "<h3>Tuples</h3>"
   ]
  },
  {
   "cell_type": "code",
   "execution_count": 14,
   "metadata": {},
   "outputs": [
    {
     "name": "stdout",
     "output_type": "stream",
     "text": [
      "(1, 2, 3, 4)\n"
     ]
    }
   ],
   "source": [
    "# declaring\n",
    "f = 1,2,3,4\n",
    "print(f)"
   ]
  },
  {
   "cell_type": "code",
   "execution_count": 15,
   "metadata": {},
   "outputs": [
    {
     "name": "stdout",
     "output_type": "stream",
     "text": [
      "The value of cr is red, cg is blue and cb is green\n"
     ]
    }
   ],
   "source": [
    "# unpacking\n",
    "g = 'red', 'blue', 'green'\n",
    "cr, cg, cb = g\n",
    "print('The value of cr is {}, cg is {} and cb is {}'.format(cr, cg, cb))"
   ]
  },
  {
   "cell_type": "markdown",
   "metadata": {},
   "source": [
    "<h2>List Comprehensions</h2>"
   ]
  },
  {
   "cell_type": "markdown",
   "metadata": {},
   "source": [
    "<p>List comprehensions provide a concise way to create lists from iterables. They can be used to create lists 'on the spot'.</p>"
   ]
  },
  {
   "cell_type": "code",
   "execution_count": 16,
   "metadata": {},
   "outputs": [],
   "source": [
    "a = [1,2,3,4,5]\n",
    "b = [x * 2 for x in a]"
   ]
  },
  {
   "cell_type": "code",
   "execution_count": 17,
   "metadata": {},
   "outputs": [
    {
     "name": "stdout",
     "output_type": "stream",
     "text": [
      "[2, 4, 6, 8, 10]\n"
     ]
    }
   ],
   "source": [
    "print(b)"
   ]
  },
  {
   "cell_type": "markdown",
   "metadata": {},
   "source": [
    "<p>List comprehensions can include conditionals</p>"
   ]
  },
  {
   "cell_type": "code",
   "execution_count": 18,
   "metadata": {},
   "outputs": [
    {
     "name": "stdout",
     "output_type": "stream",
     "text": [
      "['Kerry', 'Joyce', 'George']\n"
     ]
    }
   ],
   "source": [
    "d = {'James': 45, 'Kerry': 57, 'Alice': 30, 'Joyce': 79, 'George': 68}\n",
    "# make a list of everyone with above 50 points\n",
    "e = [x for x in d if d[x] > 50]\n",
    "print(e)"
   ]
  },
  {
   "cell_type": "code",
   "execution_count": 19,
   "metadata": {},
   "outputs": [
    {
     "name": "stdout",
     "output_type": "stream",
     "text": [
      "['James failed', 'Kerry passed', 'Alice failed', 'Joyce passed', 'George passed']\n"
     ]
    }
   ],
   "source": [
    "# condition with both if and else\n",
    "f = [f'{x} passed' if d[x] > 50 else f'{x} failed' for x in d]\n",
    "print(f)"
   ]
  },
  {
   "cell_type": "markdown",
   "metadata": {},
   "source": [
    "<h3>Slices</h3>"
   ]
  },
  {
   "cell_type": "markdown",
   "metadata": {},
   "source": [
    "<p>Slices are a way to select and obtain a piece of a list or tuple. For a list a, the slice notation is <i>a[start:stop]</i>, where <i>start</i> is the start index (included) and <i>stop</i> is the end index (excluded).</p> If <i>start</i> is not provided 0 is assumed, while if <i>stop</i> is not provided the end of the iterable (list or tuple) is assumed."
   ]
  },
  {
   "cell_type": "code",
   "execution_count": 20,
   "metadata": {},
   "outputs": [
    {
     "name": "stdout",
     "output_type": "stream",
     "text": [
      "['b', 'c', 'd', 'e']\n",
      "['a', 'b', 'c', 'd', 'e', 'f', 'g', 'h']\n",
      "['i', 'j']\n"
     ]
    }
   ],
   "source": [
    "sample = ['a', 'b', 'c', 'd', 'e', 'f', 'g', 'h', 'i', 'j']\n",
    "print(sample[1:5])\n",
    "print(sample[:-2])\n",
    "print(sample[-2:])"
   ]
  },
  {
   "cell_type": "code",
   "execution_count": 21,
   "metadata": {},
   "outputs": [
    {
     "name": "stdout",
     "output_type": "stream",
     "text": [
      "['a', 'b', 'c', 'd', 'e', 'f', 'g', 'h', 'i', 'j']\n"
     ]
    }
   ],
   "source": [
    "# slicing can be used to make a copy of a list\n",
    "copyOfSample = sample[:]\n",
    "print(copyOfSample)"
   ]
  },
  {
   "cell_type": "code",
   "execution_count": 22,
   "metadata": {},
   "outputs": [
    {
     "name": "stdout",
     "output_type": "stream",
     "text": [
      "a 0\n",
      "Deleting a\n",
      "b 1\n",
      "Deleting c\n",
      "c 2\n",
      "Deleting e\n",
      "d 3\n",
      "Deleting g\n",
      "e 4\n",
      "Deleting i\n",
      "f 5\n",
      "The list elements have been exhausted\n",
      "g 6\n",
      "The list elements have been exhausted\n",
      "h 7\n",
      "The list elements have been exhausted\n",
      "i 8\n",
      "The list elements have been exhausted\n",
      "j 9\n",
      "The list elements have been exhausted\n"
     ]
    }
   ],
   "source": [
    "# practical use of this superpower\n",
    "for n, x in enumerate(copyOfSample):\n",
    "    print(x, n)\n",
    "    try:\n",
    "        print(f'Deleting {sample[n]}')\n",
    "        del sample[n]\n",
    "    except IndexError:\n",
    "        print('The list elements have been exhausted')"
   ]
  },
  {
   "cell_type": "markdown",
   "metadata": {},
   "source": [
    "<h3>Sets</h3>"
   ]
  },
  {
   "cell_type": "markdown",
   "metadata": {},
   "source": [
    "<p>A set is an iterable where no duplicate elements are allowed.</p>"
   ]
  },
  {
   "cell_type": "code",
   "execution_count": 23,
   "metadata": {},
   "outputs": [
    {
     "name": "stdout",
     "output_type": "stream",
     "text": [
      "{'a', 'c', 'b', 'r', 'd'}\n",
      "{1, 2, 3, 4, 5, 6, 7}\n"
     ]
    }
   ],
   "source": [
    "# declaring\n",
    "h = set('abracadabra')\n",
    "k = set([1,2,4,5,6,7,3,1,6,7,7,7,6])\n",
    "print(h)\n",
    "print(k)"
   ]
  },
  {
   "cell_type": "code",
   "execution_count": 24,
   "metadata": {},
   "outputs": [
    {
     "name": "stdout",
     "output_type": "stream",
     "text": [
      "{1, 2, 3, 4, 5, 6, 7, 8}\n"
     ]
    }
   ],
   "source": [
    "i = {1,2,3,1,3,5,6,3,4,8,7,2,1}\n",
    "print(i)"
   ]
  },
  {
   "cell_type": "markdown",
   "metadata": {},
   "source": [
    "<h4>Set Arithmetic</h4>"
   ]
  },
  {
   "cell_type": "code",
   "execution_count": 25,
   "metadata": {},
   "outputs": [
    {
     "name": "stdout",
     "output_type": "stream",
     "text": [
      "{'k', 'u', 't', 'a', 'o', 'e', 'i', 'n', 'g', 's', 'b', 'r', ' ', 'j'}\n",
      "{'p', 'm', 't', 'f', 'a', 'n', 'e', 'x', 'o', 'i', 's', 'b', 'r', 'd', 'l', ' ', 'S', 'w'}\n",
      "{'k', 'u', 'j', 'g'}\n"
     ]
    }
   ],
   "source": [
    "# elements in a and not in b - NOT\n",
    "a = set('robots are taking our jobs')\n",
    "b = set('bananas were exported from Somalia')\n",
    "print(a)\n",
    "print(b)\n",
    "c = a - b\n",
    "print(c)"
   ]
  },
  {
   "cell_type": "code",
   "execution_count": 26,
   "metadata": {},
   "outputs": [
    {
     "name": "stdout",
     "output_type": "stream",
     "text": [
      "{'l', 'm', 't', 'i', 'x', 'b', 'r', ' ', 'S', 'n', 'g', 's', 'd', 'w', 'p', 'k', 'u', 'f', 'a', 'o', 'e', 'j'}\n"
     ]
    }
   ],
   "source": [
    "# elements in either a or b or both - OR\n",
    "c = a | b\n",
    "print(c)"
   ]
  },
  {
   "cell_type": "code",
   "execution_count": 27,
   "metadata": {},
   "outputs": [
    {
     "data": {
      "text/plain": [
       "{' ', 'a', 'b', 'e', 'i', 'n', 'o', 'r', 's', 't'}"
      ]
     },
     "execution_count": 27,
     "metadata": {},
     "output_type": "execute_result"
    }
   ],
   "source": [
    "# elements in both a and b - AND\n",
    "a & b"
   ]
  },
  {
   "cell_type": "code",
   "execution_count": 28,
   "metadata": {},
   "outputs": [
    {
     "data": {
      "text/plain": [
       "{'S', 'd', 'f', 'g', 'j', 'k', 'l', 'm', 'p', 'u', 'w', 'x'}"
      ]
     },
     "execution_count": 28,
     "metadata": {},
     "output_type": "execute_result"
    }
   ],
   "source": [
    "# elements in either a or b but not both - XOR\n",
    "a ^ b"
   ]
  },
  {
   "cell_type": "markdown",
   "metadata": {},
   "source": [
    "<h2>Iterators</h2>"
   ]
  },
  {
   "cell_type": "markdown",
   "metadata": {},
   "source": [
    "<p>Iterators are objects which implement the iterator protocol, which consist of the methods __iter__() and __next__(). Lists, tuples, dictionaries, and sets are all <b>iterable</b> objects. They are iterable containers which you can get an iterator from. All these objects can return an iterator with the built in iter function.</p>"
   ]
  },
  {
   "cell_type": "code",
   "execution_count": 29,
   "metadata": {},
   "outputs": [],
   "source": [
    "# list iterable\n",
    "a1 = ['cow', 'sheep', 'goat', 'pig', 'hen']\n",
    "# tuple iterable\n",
    "a2 = (50, 55, 60, 65, 70, 75, 80)\n",
    "# set iterable\n",
    "a3 = {'The quick brown fox'}\n",
    "# dictionary iterable\n",
    "a4 = {'cow':100, 'sheep':345, 'goat':500, 'pig':1200, 'hen':15}\n"
   ]
  },
  {
   "cell_type": "code",
   "execution_count": 30,
   "metadata": {},
   "outputs": [],
   "source": [
    "# get iterators\n",
    "b1 = iter(a1)\n",
    "b2 = iter(a2)\n",
    "b3 = iter(a3)\n",
    "b4 = iter(a4)"
   ]
  },
  {
   "cell_type": "code",
   "execution_count": 31,
   "metadata": {},
   "outputs": [
    {
     "name": "stdout",
     "output_type": "stream",
     "text": [
      "From iter() built in function\n",
      "<list_iterator object at 0x7fec30096dc0>\n",
      "<tuple_iterator object at 0x7fec30096f70>\n",
      "<set_iterator object at 0x7fec30064480>\n",
      "<dict_keyiterator object at 0x7fec3005b270>\n"
     ]
    }
   ],
   "source": [
    "print('From iter() built in function')\n",
    "# should show an iterator object based on the iterable type\n",
    "print(b1)\n",
    "print(b2)\n",
    "print(b3)\n",
    "print(b4)"
   ]
  },
  {
   "cell_type": "code",
   "execution_count": 32,
   "metadata": {},
   "outputs": [],
   "source": [
    "# you can also get iterators by using the __iter__() method\n",
    "c1 = a1.__iter__()\n",
    "c2 = a2.__iter__()\n",
    "c3 = a3.__iter__()\n",
    "c4 = a4.__iter__()"
   ]
  },
  {
   "cell_type": "code",
   "execution_count": 33,
   "metadata": {},
   "outputs": [
    {
     "name": "stdout",
     "output_type": "stream",
     "text": [
      "From __iter__() method\n",
      "<list_iterator object at 0x7fec300963d0>\n",
      "<tuple_iterator object at 0x7fec300965b0>\n",
      "<set_iterator object at 0x7fec30068540>\n",
      "<dict_keyiterator object at 0x7fec30066a90>\n"
     ]
    }
   ],
   "source": [
    "print('From __iter__() method')\n",
    "# should show an iterator object based on the iterable type\n",
    "print(c1)\n",
    "print(c2)\n",
    "print(c3)\n",
    "print(c4)"
   ]
  },
  {
   "cell_type": "code",
   "execution_count": 34,
   "metadata": {},
   "outputs": [
    {
     "name": "stdout",
     "output_type": "stream",
     "text": [
      "cow\n",
      "sheep\n",
      "goat\n",
      "pig\n",
      "hen\n"
     ]
    }
   ],
   "source": [
    "# use the built-in next function to get values\n",
    "print(next(b1))\n",
    "print(next(b1))\n",
    "print(next(b1))\n",
    "print(next(b1))\n",
    "print(next(b1))"
   ]
  },
  {
   "cell_type": "code",
   "execution_count": 36,
   "metadata": {},
   "outputs": [
    {
     "name": "stdout",
     "output_type": "stream",
     "text": [
      "The underlying iterable is exhausted\n"
     ]
    }
   ],
   "source": [
    "try:\n",
    "    print(next(b1))\n",
    "except StopIteration:\n",
    "    print('The underlying iterable is exhausted')"
   ]
  },
  {
   "cell_type": "markdown",
   "metadata": {},
   "source": [
    "<p>The for loop actually creates an iterator object and executes the next() method for each loop.</p>"
   ]
  },
  {
   "cell_type": "code",
   "execution_count": 37,
   "metadata": {},
   "outputs": [
    {
     "name": "stdout",
     "output_type": "stream",
     "text": [
      "cow\n",
      "sheep\n",
      "goat\n",
      "pig\n",
      "hen\n"
     ]
    }
   ],
   "source": [
    "for x in a1:\n",
    "    print(x)"
   ]
  },
  {
   "cell_type": "markdown",
   "metadata": {},
   "source": []
  }
 ],
 "metadata": {
  "kernelspec": {
   "display_name": "Python 3",
   "language": "python",
   "name": "python3"
  },
  "language_info": {
   "codemirror_mode": {
    "name": "ipython",
    "version": 3
   },
   "file_extension": ".py",
   "mimetype": "text/x-python",
   "name": "python",
   "nbconvert_exporter": "python",
   "pygments_lexer": "ipython3",
   "version": "3.8.5"
  }
 },
 "nbformat": 4,
 "nbformat_minor": 4
}
