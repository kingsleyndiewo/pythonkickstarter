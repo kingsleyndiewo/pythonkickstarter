{
 "cells": [
  {
   "cell_type": "markdown",
   "metadata": {},
   "source": [
    "<h2>Error Handling</h2>"
   ]
  },
  {
   "cell_type": "markdown",
   "metadata": {},
   "source": [
    "<p>Two major classes of errors exist in Python programs: syntax errors and exceptions. Exceptions occur at runtime and usually cause the program to either produce unexpected results or fail to execute completely.</p>"
   ]
  },
  {
   "cell_type": "code",
   "execution_count": 1,
   "metadata": {},
   "outputs": [
    {
     "ename": "ZeroDivisionError",
     "evalue": "division by zero",
     "output_type": "error",
     "traceback": [
      "\u001b[0;31m---------------------------------------------------------------------------\u001b[0m",
      "\u001b[0;31mZeroDivisionError\u001b[0m                         Traceback (most recent call last)",
      "\u001b[0;32m<ipython-input-1-31270dfcd1c2>\u001b[0m in \u001b[0;36m<module>\u001b[0;34m\u001b[0m\n\u001b[1;32m      2\u001b[0m \u001b[0ma\u001b[0m \u001b[0;34m=\u001b[0m \u001b[0;36m5\u001b[0m\u001b[0;34m\u001b[0m\u001b[0;34m\u001b[0m\u001b[0m\n\u001b[1;32m      3\u001b[0m \u001b[0mb\u001b[0m \u001b[0;34m=\u001b[0m \u001b[0;36m0\u001b[0m\u001b[0;34m\u001b[0m\u001b[0;34m\u001b[0m\u001b[0m\n\u001b[0;32m----> 4\u001b[0;31m \u001b[0mc\u001b[0m \u001b[0;34m=\u001b[0m \u001b[0ma\u001b[0m \u001b[0;34m/\u001b[0m \u001b[0mb\u001b[0m\u001b[0;34m\u001b[0m\u001b[0;34m\u001b[0m\u001b[0m\n\u001b[0m",
      "\u001b[0;31mZeroDivisionError\u001b[0m: division by zero"
     ]
    }
   ],
   "source": [
    "# cause a division by zero error\n",
    "a = 5\n",
    "b = 0\n",
    "c = a / b"
   ]
  },
  {
   "cell_type": "code",
   "execution_count": 2,
   "metadata": {},
   "outputs": [
    {
     "name": "stdout",
     "output_type": "stream",
     "text": [
      "Cannot divide by zero\n"
     ]
    }
   ],
   "source": [
    "# handle a ZeroDivisionError\n",
    "try:\n",
    "    c = a / b\n",
    "except ZeroDivisionError:\n",
    "    print('Cannot divide by zero')"
   ]
  },
  {
   "cell_type": "code",
   "execution_count": 3,
   "metadata": {},
   "outputs": [
    {
     "name": "stdout",
     "output_type": "stream",
     "text": [
      "An error occured\n"
     ]
    }
   ],
   "source": [
    "# handle multiple errors at the same time\n",
    "try:\n",
    "    a = 7\n",
    "    b = 13\n",
    "    c = [2,3,4]\n",
    "    # value error\n",
    "    int('f')\n",
    "    # zero division error\n",
    "    34 / 0\n",
    "    # index error\n",
    "    print(c[b])\n",
    "    # name error\n",
    "    print(c + newVar)\n",
    "except:\n",
    "    # a catch all for any error\n",
    "    print('An error occured')"
   ]
  },
  {
   "cell_type": "markdown",
   "metadata": {},
   "source": [
    "<p>For the below example, comment out each error to observe the behavior of the code below it. Once an except block runs, no other code in the try block will run.</p>"
   ]
  },
  {
   "cell_type": "code",
   "execution_count": 4,
   "metadata": {},
   "outputs": [
    {
     "name": "stdout",
     "output_type": "stream",
     "text": [
      "A data type mismatch occured\n"
     ]
    }
   ],
   "source": [
    "# add some specificity - which error occured\n",
    "try:\n",
    "    a = 7\n",
    "    b = 13\n",
    "    c = [2,3,4]\n",
    "    # value error\n",
    "    int('f')\n",
    "    # zero division error\n",
    "    34 / 0\n",
    "    # index error\n",
    "    print(c[b])\n",
    "    # name error\n",
    "    print(c + newVar)\n",
    "except ValueError:\n",
    "    print('A data type mismatch occured')\n",
    "except ZeroDivisionError:\n",
    "    print('Cannot divide by zero')\n",
    "except IndexError:\n",
    "    print('The specified index does not exist in the iterable')\n",
    "except NameError:\n",
    "    print('Used a variable without initializing it')\n"
   ]
  },
  {
   "cell_type": "code",
   "execution_count": 5,
   "metadata": {},
   "outputs": [
    {
     "name": "stdout",
     "output_type": "stream",
     "text": [
      "A group 1 error occured\n"
     ]
    }
   ],
   "source": [
    "# catch a specific set of exceptions\n",
    "try:\n",
    "    a = 7\n",
    "    b = 13\n",
    "    c = [2,3,4]\n",
    "    # value error\n",
    "    int('f')\n",
    "    # zero division error\n",
    "    34 / 0\n",
    "    # index error\n",
    "    print(c[b])\n",
    "    # name error\n",
    "    print(c + newVar)\n",
    "except (ValueError, ZeroDivisionError):\n",
    "    print('A group 1 error occured')\n",
    "except (IndexError, NameError):\n",
    "    print('A group 2 error occured')\n",
    "    "
   ]
  },
  {
   "cell_type": "markdown",
   "metadata": {},
   "source": [
    "<p>The try ... except statement has an optional else clause, which, when present, must follow all except clauses. It is useful for code that must be executed if the try clause does not raise an exception.</p>"
   ]
  },
  {
   "cell_type": "code",
   "execution_count": 6,
   "metadata": {},
   "outputs": [
    {
     "name": "stdout",
     "output_type": "stream",
     "text": [
      "4\n",
      "No error occured\n"
     ]
    }
   ],
   "source": [
    "try:\n",
    "    h = [2,3,4,5]\n",
    "    print(h[2])\n",
    "except IndexError:\n",
    "    print('The specified index does not exist in the iterable')\n",
    "else:\n",
    "    print('No error occured')"
   ]
  },
  {
   "cell_type": "code",
   "execution_count": 7,
   "metadata": {},
   "outputs": [
    {
     "name": "stdout",
     "output_type": "stream",
     "text": [
      "invalid literal for int() with base 10: 'f'\n",
      "A data type mismatch occured\n"
     ]
    }
   ],
   "source": [
    "# get any data sent along with exception\n",
    "# we can get a handle on the exception object to see what extra data may be present\n",
    "try:\n",
    "    a = 7\n",
    "    b = 13\n",
    "    c = [2,3,4]\n",
    "    # value error\n",
    "    int('f')\n",
    "    # zero division error\n",
    "    34 / 0\n",
    "    # index error\n",
    "    print(c[b])\n",
    "    # name error\n",
    "    print(c + newVar)\n",
    "except ValueError as e:\n",
    "    print(e)\n",
    "    print('A data type mismatch occured')\n",
    "except ZeroDivisionError as e:\n",
    "    print(e)\n",
    "    print('Cannot divide by zero')\n",
    "except IndexError as e:\n",
    "    print(e)\n",
    "    print('The specified index does not exist in the iterable')\n",
    "except NameError as e:\n",
    "    print(e)\n",
    "    print('Used a variable without initializing it')\n"
   ]
  }
 ],
 "metadata": {
  "kernelspec": {
   "display_name": "Python 3",
   "language": "python",
   "name": "python3"
  },
  "language_info": {
   "codemirror_mode": {
    "name": "ipython",
    "version": 3
   },
   "file_extension": ".py",
   "mimetype": "text/x-python",
   "name": "python",
   "nbconvert_exporter": "python",
   "pygments_lexer": "ipython3",
   "version": "3.8.5"
  }
 },
 "nbformat": 4,
 "nbformat_minor": 4
}
