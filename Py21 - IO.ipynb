{
 "cells": [
  {
   "cell_type": "markdown",
   "metadata": {},
   "source": [
    "<h1>Input / Output </h1>"
   ]
  },
  {
   "cell_type": "markdown",
   "metadata": {},
   "source": [
    "<p>One of the most important and foundational functions of a computer is <b>reading from</b> and <b>writing to</b> files. So far we have stored data in variables, stored data in databases (including SQLite which is a file database) but we have not stored data directly into a file.</p>\n",
    "<p>We use the built-in <b>open</b> function, which takes two arguments, a file name and a mode. It returns a file object</p>"
   ]
  },
  {
   "cell_type": "code",
   "execution_count": 1,
   "metadata": {},
   "outputs": [],
   "source": [
    "# to open an existing file\n",
    "try:\n",
    "    # default mode is 'r' which means read\n",
    "    fileHandle = open('data/sample.txt')\n",
    "except FileNotFoundError:\n",
    "    # file does not exist, create it first\n",
    "    fileHandle = open('data/sample.txt', 'w')\n",
    "    # calling open in write (w) or append (a) mode will create the file if it doesn't exist\n",
    "    fileHandle.write('The quick brown fox was feeling feisty,\\nso it jumped over the lazy dog.')\n",
    "    # close the file first, so that we can open in a new mode\n",
    "    fileHandle.close()\n",
    "    # we can now open the file in read mode\n",
    "    fileHandle = open('data/sample.txt')"
   ]
  },
  {
   "cell_type": "code",
   "execution_count": 2,
   "metadata": {},
   "outputs": [],
   "source": [
    "# utility function to read in the data\n",
    "def readData(fHandle=None):\n",
    "    if fHandle == None:\n",
    "        # open the file for read\n",
    "        fHandle = open('data/sample.txt')\n",
    "    fileData = fHandle.read()\n",
    "    fHandle.close()\n",
    "    # display the data\n",
    "    print(fileData)"
   ]
  },
  {
   "cell_type": "code",
   "execution_count": 3,
   "metadata": {},
   "outputs": [
    {
     "name": "stdout",
     "output_type": "stream",
     "text": [
      "Beautiful is better than ugly.\n",
      "Explicit is better than implicit.\n",
      "Simple is better than complex.\n",
      "Complex is better than complicated.\n",
      "Flat is better than nested.\n",
      "Sparse is better than dense.\n",
      "Readability counts.\n",
      "Special cases aren't special enough to break the rules.\n",
      "Although practicality beats purity.\n",
      "Errors should never pass silently.\n",
      "Unless explicitly silenced.\n",
      "In the face of ambiguity, refuse the temptation to guess.\n",
      "There should be one– and preferably only one –obvious way to do it.\n",
      "Although that way may not be obvious at first unless you're Dutch.\n",
      "Now is better than never.\n",
      "Although never is often better than right now.\n",
      "If the implementation is hard to explain, it's a bad idea.\n",
      "If the implementation is easy to explain, it may be a good idea.\n",
      "Namespaces are one honking great idea – let's do more of those!\n"
     ]
    }
   ],
   "source": [
    "# read in the data and display\n",
    "readData(fileHandle)"
   ]
  },
  {
   "cell_type": "markdown",
   "metadata": {},
   "source": [
    "<p>The write mode means any data written to the file replaces existing contents. The append mode means that any data written to the file is appended at the end of the file.</p>"
   ]
  },
  {
   "cell_type": "code",
   "execution_count": 4,
   "metadata": {},
   "outputs": [],
   "source": [
    "# write new data\n",
    "fileHandle = open('data/sample.txt', 'w')\n",
    "fileHandle.write('The metaverse is not a new concept but it is an awesome one.\\nThe Sims and 2nd Life had fairly detailed metaverses long before Meta.')\n",
    "fileHandle.close()"
   ]
  },
  {
   "cell_type": "code",
   "execution_count": 5,
   "metadata": {},
   "outputs": [
    {
     "name": "stdout",
     "output_type": "stream",
     "text": [
      "The metaverse is not a new concept but it is an awesome one.\n",
      "The Sims and 2nd Life had fairly detailed metaverses long before Meta.\n"
     ]
    }
   ],
   "source": [
    "# display the new contents\n",
    "readData()"
   ]
  },
  {
   "cell_type": "code",
   "execution_count": 6,
   "metadata": {},
   "outputs": [],
   "source": [
    "# append data\n",
    "fileHandle = open('data/sample.txt', 'a')\n",
    "fileHandle.write('\\nThe addition of virtual and augmented reality (together as mixed reality) is promising.\\nThe future is certainly exciting.')\n",
    "fileHandle.close()"
   ]
  },
  {
   "cell_type": "code",
   "execution_count": 7,
   "metadata": {},
   "outputs": [
    {
     "name": "stdout",
     "output_type": "stream",
     "text": [
      "The metaverse is not a new concept but it is an awesome one.\n",
      "The Sims and 2nd Life had fairly detailed metaverses long before Meta.\n",
      "The addition of virtual and augmented reality (together as mixed reality) is promising.\n",
      "The future is certainly exciting.\n"
     ]
    }
   ],
   "source": [
    "# display the new contents\n",
    "readData()"
   ]
  },
  {
   "cell_type": "markdown",
   "metadata": {},
   "source": [
    "<h2>Using <b>with</b></h2>"
   ]
  },
  {
   "cell_type": "markdown",
   "metadata": {},
   "source": [
    "<p>To avoid the requirement of closing the file explicitly every time you open it, you can use with</p>"
   ]
  },
  {
   "cell_type": "code",
   "execution_count": 8,
   "metadata": {},
   "outputs": [
    {
     "name": "stdout",
     "output_type": "stream",
     "text": [
      "The metaverse is not a new concept but it is an awesome one.\n",
      "The Sims and 2nd Life had fairly detailed metaverses long before Meta.\n",
      "The addition of virtual and augmented reality (together as mixed reality) is promising.\n",
      "The future is certainly exciting.\n",
      "Is the file object closed? True\n"
     ]
    }
   ],
   "source": [
    "with open('data/sample.txt') as fhandle:\n",
    "    print(fhandle.read())\n",
    "# check that the file is closed\n",
    "print(f'Is the file object closed? {fhandle.closed}')"
   ]
  },
  {
   "cell_type": "markdown",
   "metadata": {},
   "source": [
    "<h2>Looping over file content</h2>"
   ]
  },
  {
   "cell_type": "markdown",
   "metadata": {},
   "source": [
    "<p>A file object can be used as an iterable, looping over the lines in the content</p>"
   ]
  },
  {
   "cell_type": "markdown",
   "metadata": {},
   "source": [
    "with open('data/sample.txt') as fhandle:\n",
    "    for l in fhandle:\n",
    "        print(l)"
   ]
  },
  {
   "cell_type": "markdown",
   "metadata": {},
   "source": [
    "<p>The readline() method can also be used instead of read() to read a single line at a time</p>"
   ]
  },
  {
   "cell_type": "code",
   "execution_count": 9,
   "metadata": {},
   "outputs": [
    {
     "name": "stdout",
     "output_type": "stream",
     "text": [
      "The metaverse is not a new concept but it is an awesome one.\n",
      "\n",
      "The Sims and 2nd Life had fairly detailed metaverses long before Meta.\n",
      "\n"
     ]
    }
   ],
   "source": [
    "with open('data/sample.txt') as fhandle:\n",
    "    print(fhandle.readline())\n",
    "    print(fhandle.readline())"
   ]
  },
  {
   "cell_type": "markdown",
   "metadata": {},
   "source": [
    "<p>The readlines() method returns all the lines in a list</p>"
   ]
  },
  {
   "cell_type": "code",
   "execution_count": 10,
   "metadata": {},
   "outputs": [
    {
     "name": "stdout",
     "output_type": "stream",
     "text": [
      "['The metaverse is not a new concept but it is an awesome one.\\n', 'The Sims and 2nd Life had fairly detailed metaverses long before Meta.\\n', 'The addition of virtual and augmented reality (together as mixed reality) is promising.\\n', 'The future is certainly exciting.']\n"
     ]
    }
   ],
   "source": [
    "with open('data/sample.txt') as fhandle:\n",
    "    print(fhandle.readlines())"
   ]
  },
  {
   "cell_type": "markdown",
   "metadata": {},
   "source": [
    "<h2>Exercise</h2>\n",
    "<p>Read up on reading binary files and JSON data</p>"
   ]
  }
 ],
 "metadata": {
  "kernelspec": {
   "display_name": "Python 3",
   "language": "python",
   "name": "python3"
  },
  "language_info": {
   "codemirror_mode": {
    "name": "ipython",
    "version": 3
   },
   "file_extension": ".py",
   "mimetype": "text/x-python",
   "name": "python",
   "nbconvert_exporter": "python",
   "pygments_lexer": "ipython3",
   "version": "3.8.10"
  }
 },
 "nbformat": 4,
 "nbformat_minor": 4
}
