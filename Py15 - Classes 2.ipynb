{
 "cells": [
  {
   "cell_type": "markdown",
   "metadata": {},
   "source": [
    "<h1>Classes 2</h1>"
   ]
  },
  {
   "cell_type": "markdown",
   "metadata": {},
   "source": [
    "<h2>Inheritance</h2>"
   ]
  },
  {
   "cell_type": "markdown",
   "metadata": {},
   "source": [
    "<p>Inheritance is a powerful part of classes, that allows for simple to complicated feature hierarchies.</p>"
   ]
  },
  {
   "cell_type": "code",
   "execution_count": 1,
   "metadata": {},
   "outputs": [],
   "source": [
    "# class definition for Animal class\n",
    "class Animal:\n",
    "    \"\"\" A class that defines Animal objects \"\"\"\n",
    "    # class attribute\n",
    "    population = 0\n",
    "    # the class constructor\n",
    "    def __init__(self, name):\n",
    "        # assign the name in the constructor \n",
    "        self.name = name\n",
    "        # increment the population\n",
    "        Animal.population += 1\n",
    "        # print creation message\n",
    "        print(f'An animal named {self.name} was created')\n",
    "        \n",
    "    # a method that sets the animal's name\n",
    "    def editName(self, name):\n",
    "        # set the value of the attribute name\n",
    "        self.name = name\n",
    "    "
   ]
  },
  {
   "cell_type": "code",
   "execution_count": 2,
   "metadata": {},
   "outputs": [
    {
     "name": "stdout",
     "output_type": "stream",
     "text": [
      "An animal named Igor was created\n"
     ]
    }
   ],
   "source": [
    "# create a generic animal\n",
    "animal1 = Animal('Igor')"
   ]
  },
  {
   "cell_type": "code",
   "execution_count": 3,
   "metadata": {},
   "outputs": [],
   "source": [
    "# class definition for Mammal, which inherits from animal\n",
    "class Mammal(Animal):\n",
    "    \"\"\" A class that defines Mammal objects \"\"\"\n",
    "    # class attribute; uses name mangling to ensure it is not the same as the ancestral class attribute\n",
    "    __population = 0\n",
    "    # the class constructor\n",
    "    def __init__(self, name):\n",
    "        # explicitly calls ancestral constructor\n",
    "        super().__init__(name)\n",
    "        # increment the population of this specific class\n",
    "        Mammal.__population += 1\n",
    "        # print a create message\n",
    "        print(f'{self.name} is a mammal.')"
   ]
  },
  {
   "cell_type": "markdown",
   "metadata": {},
   "source": [
    "<p>We use two leading underscores (__) to create a private variable for a class. Python replaces the variable name (for example <b>__population</b>) with _[class name]__[variable name] which in our example becomes _Mammal__population, where [class name] is the current class name. This is called <b>name mangling</b> and allows us to have attributes in a class that have the same name as attributes in ancestral classes without conflict.</p>"
   ]
  },
  {
   "cell_type": "code",
   "execution_count": 4,
   "metadata": {},
   "outputs": [
    {
     "name": "stdout",
     "output_type": "stream",
     "text": [
      "An animal named Fyodor was created\n",
      "Fyodor is a mammal.\n",
      "An animal named Elena was created\n",
      "Elena is a mammal.\n"
     ]
    }
   ],
   "source": [
    "# create a mammal\n",
    "mammal1 = Mammal('Fyodor')\n",
    "# create another mammal\n",
    "mammal2 = Mammal('Elena')"
   ]
  },
  {
   "cell_type": "code",
   "execution_count": 5,
   "metadata": {},
   "outputs": [
    {
     "name": "stdout",
     "output_type": "stream",
     "text": [
      "The animal population is 3\n",
      "The mammal population is 2\n"
     ]
    }
   ],
   "source": [
    "# check the populations\n",
    "print(f'The animal population is {mammal1.population}')\n",
    "print(f'The mammal population is {mammal1._Mammal__population}')"
   ]
  },
  {
   "cell_type": "code",
   "execution_count": 6,
   "metadata": {},
   "outputs": [],
   "source": [
    "# let's create another step in this hierarchy\n",
    "class Primate(Mammal):\n",
    "    \"\"\" A class that defines Primate objects \"\"\"\n",
    "    # class attribute\n",
    "    __population = 0\n",
    "    # the class constructor\n",
    "    def __init__(self, name):\n",
    "        # explicitly calls ancestral constructor\n",
    "        super().__init__(name)\n",
    "        # increment the population of this specific class\n",
    "        Primate.__population += 1\n",
    "        # print a create message\n",
    "        print(f'{self.name} is a primate.')"
   ]
  },
  {
   "cell_type": "code",
   "execution_count": 7,
   "metadata": {},
   "outputs": [
    {
     "name": "stdout",
     "output_type": "stream",
     "text": [
      "An animal named Charles was created\n",
      "Charles is a mammal.\n",
      "Charles is a primate.\n"
     ]
    }
   ],
   "source": [
    "# create a primate\n",
    "primate1 = Primate('Charles')"
   ]
  },
  {
   "cell_type": "code",
   "execution_count": 8,
   "metadata": {},
   "outputs": [
    {
     "name": "stdout",
     "output_type": "stream",
     "text": [
      "The animal population is 4\n",
      "The mammal population is 3\n",
      "The primate population is 1\n"
     ]
    }
   ],
   "source": [
    "# check the populations\n",
    "print(f'The animal population is {animal1.population}')\n",
    "print(f'The mammal population is {primate1._Mammal__population}')\n",
    "print(f'The primate population is {primate1._Primate__population}')"
   ]
  },
  {
   "cell_type": "markdown",
   "metadata": {},
   "source": [
    "<h2>Exercise</h2>"
   ]
  },
  {
   "cell_type": "markdown",
   "metadata": {},
   "source": [
    "<p>Following the theme of cars from Classes 1, create the following hierarchy:\n",
    "    <ol>\n",
    "        <li>Vehicle</li>\n",
    "        <li>Car, Plane, Boat</li>\n",
    "        <li>SUV, Helicopter, Yacht</li>\n",
    "    </ol>   \n",
    "    For each class defined, design it to have at least one unique method and at least two instance attributes. Use a class attribute to track the count of all vehicles and for each class.\n",
    "</p>"
   ]
  }
 ],
 "metadata": {
  "kernelspec": {
   "display_name": "Python 3",
   "language": "python",
   "name": "python3"
  },
  "language_info": {
   "codemirror_mode": {
    "name": "ipython",
    "version": 3
   },
   "file_extension": ".py",
   "mimetype": "text/x-python",
   "name": "python",
   "nbconvert_exporter": "python",
   "pygments_lexer": "ipython3",
   "version": "3.8.5"
  }
 },
 "nbformat": 4,
 "nbformat_minor": 4
}
