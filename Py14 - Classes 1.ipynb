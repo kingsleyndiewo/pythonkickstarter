{
 "cells": [
  {
   "cell_type": "markdown",
   "metadata": {},
   "source": [
    "<h1>Classes 1</h1>"
   ]
  },
  {
   "cell_type": "markdown",
   "metadata": {},
   "source": [
    "<h2>Class Definitions and Constructors</h2>"
   ]
  },
  {
   "cell_type": "markdown",
   "metadata": {},
   "source": [
    "<p>A <b>class</b> is a factory that creates objects. An <b>instance</b> is an object that is created from a class.\n",
    "Creating a new class creates a factory for a new type of object, allowing new instances of that type to be made.</p> "
   ]
  },
  {
   "cell_type": "markdown",
   "metadata": {},
   "source": [
    "<p>Classes have <b>attributes (also known as properties)</b> which are internal variables that store data specific to each class instance. They also have <b>methods</b> which are internal functions that are able to modify its properties along with variables in the external environment.\n",
    "In summary each class instance uses attributes for maintaining its state and methods for modifying its state. State here is the totality of the data specific to that instance.</p>"
   ]
  },
  {
   "cell_type": "code",
   "execution_count": 1,
   "metadata": {},
   "outputs": [],
   "source": [
    "# class definition for Monkey class\n",
    "class Monkey:\n",
    "    \"\"\" A class that defines Monkey objects \"\"\"\n",
    "    # the class constructor; a special method that is called when the class instance is created\n",
    "    def __init__(self):\n",
    "        print('A monkey was created')\n",
    "    # a method that sets the monkey's name\n",
    "    def setName(self, name):\n",
    "        # set the value of the attribute name\n",
    "        self.name = name"
   ]
  },
  {
   "cell_type": "markdown",
   "metadata": {},
   "source": [
    "<p>Note that <b>all</b> class methods have their first argument as <b>self</b>, which is a reference to the instance of the class. Self is not explicitly passed when calling a method, it is passed by Python.</p>"
   ]
  },
  {
   "cell_type": "code",
   "execution_count": 2,
   "metadata": {},
   "outputs": [
    {
     "name": "stdout",
     "output_type": "stream",
     "text": [
      "A monkey was created\n",
      "A monkey was created\n"
     ]
    }
   ],
   "source": [
    "# create instances of monkeys\n",
    "monkey1 = Monkey()\n",
    "monkey1.setName('Vadim')\n",
    "monkey2 = Monkey()\n",
    "monkey2.setName('Sergei')"
   ]
  },
  {
   "cell_type": "code",
   "execution_count": 3,
   "metadata": {},
   "outputs": [
    {
     "name": "stdout",
     "output_type": "stream",
     "text": [
      "Vadim\n",
      "Sergei\n"
     ]
    }
   ],
   "source": [
    "# check the name attribute\n",
    "print(monkey1.name)\n",
    "print(monkey2.name)"
   ]
  },
  {
   "cell_type": "markdown",
   "metadata": {},
   "source": [
    "<p>We can save a step if we make the name of the monkey an argument in the constructor, so that we pass it when we are creating an instance.</p>"
   ]
  },
  {
   "cell_type": "code",
   "execution_count": 4,
   "metadata": {},
   "outputs": [],
   "source": [
    "# class definition for Monkey class\n",
    "class Monkey:\n",
    "    \"\"\" A class that defines Monkey objects \"\"\"\n",
    "    # the class constructor; a special method that is called when the class instance is created\n",
    "    def __init__(self, name):\n",
    "        # assign the name in the constructor \n",
    "        self.name = name\n",
    "        self.bananas = 3\n",
    "        print(f'A monkey named {self.name} was created with {self.bananas} bananas')\n",
    "    # a method that sets the monkey's name\n",
    "    def editName(self, name):\n",
    "        # set the value of the attribute name\n",
    "        self.name = name\n",
    "    def eatBanana(self):\n",
    "        # check if we have bananas\n",
    "        if self.bananas > 0:\n",
    "            self.bananas -= 1\n",
    "            print(f'{self.name} ate a banana!')\n",
    "        else:\n",
    "            print(f'{self.name} has no bananas to eat')"
   ]
  },
  {
   "cell_type": "code",
   "execution_count": 5,
   "metadata": {},
   "outputs": [
    {
     "name": "stdout",
     "output_type": "stream",
     "text": [
      "A monkey named Katerina was created with 3 bananas\n",
      "A monkey named Yulia was created with 3 bananas\n"
     ]
    }
   ],
   "source": [
    "# create instances of monkeys\n",
    "monkey1 = Monkey('Katerina')\n",
    "monkey2 = Monkey('Yulia')"
   ]
  },
  {
   "cell_type": "code",
   "execution_count": 6,
   "metadata": {},
   "outputs": [
    {
     "name": "stdout",
     "output_type": "stream",
     "text": [
      "Katerina ate a banana!\n",
      "Katerina ate a banana!\n",
      "Katerina ate a banana!\n",
      "Katerina has no bananas to eat\n"
     ]
    }
   ],
   "source": [
    "# test out banana method\n",
    "for _ in range(4):\n",
    "    monkey1.eatBanana()"
   ]
  },
  {
   "cell_type": "code",
   "execution_count": 7,
   "metadata": {},
   "outputs": [
    {
     "name": "stdout",
     "output_type": "stream",
     "text": [
      "Yulia ate a banana!\n"
     ]
    }
   ],
   "source": [
    "# confirm that Tobias still has bananas\n",
    "monkey2.eatBanana()"
   ]
  },
  {
   "cell_type": "markdown",
   "metadata": {},
   "source": [
    "<h2>Class Attributes</h2>"
   ]
  },
  {
   "cell_type": "markdown",
   "metadata": {},
   "source": [
    "<p>So far we've seen attributes like name and bananas that are 'owned' by specific instances of Monkey. These are instance attributes. We can have attributes that belong generally to a class, shared across all instances. They are class attributes. They is useful especially for things like maintaining a running total that each instance contributes to. In this case, let us track the population of monkeys as instances are created.</p>"
   ]
  },
  {
   "cell_type": "code",
   "execution_count": 8,
   "metadata": {},
   "outputs": [],
   "source": [
    "# class definition for Monkey class\n",
    "class Monkey:\n",
    "    \"\"\" A class that defines Monkey objects \"\"\"\n",
    "    # class attribute\n",
    "    population = 0\n",
    "    # the class constructor; a special method that is called when the class instance is created\n",
    "    def __init__(self, name):\n",
    "        # assign the name in the constructor \n",
    "        self.name = name\n",
    "        self.bananas = 3\n",
    "        # increment the population\n",
    "        Monkey.population += 1\n",
    "        print(f'A monkey named {self.name} was created with {self.bananas} bananas')\n",
    "    # a method that sets the monkey's name\n",
    "    def editName(self, name):\n",
    "        # set the value of the attribute name\n",
    "        self.name = name\n",
    "    def eatBanana(self):\n",
    "        # check if we have bananas\n",
    "        if self.bananas > 0:\n",
    "            self.bananas -= 1\n",
    "            print(f'{self.name} ate a banana!')\n",
    "        else:\n",
    "            print(f'{self.name} has no bananas to eat')"
   ]
  },
  {
   "cell_type": "code",
   "execution_count": 9,
   "metadata": {},
   "outputs": [
    {
     "name": "stdout",
     "output_type": "stream",
     "text": [
      "A monkey named Igor was created with 3 bananas\n",
      "A monkey named Vera was created with 3 bananas\n"
     ]
    }
   ],
   "source": [
    "monkey1 = Monkey('Igor')\n",
    "monkey2 = Monkey('Vera')"
   ]
  },
  {
   "cell_type": "code",
   "execution_count": 10,
   "metadata": {},
   "outputs": [
    {
     "name": "stdout",
     "output_type": "stream",
     "text": [
      "2\n"
     ]
    }
   ],
   "source": [
    "# check the class attribute\n",
    "print(monkey1.population)"
   ]
  },
  {
   "cell_type": "code",
   "execution_count": 11,
   "metadata": {},
   "outputs": [
    {
     "name": "stdout",
     "output_type": "stream",
     "text": [
      "A monkey named Yevgeny was created with 3 bananas\n",
      "A monkey named Olga was created with 3 bananas\n"
     ]
    }
   ],
   "source": [
    "# add two more monkeys\n",
    "monkey3 = Monkey('Yevgeny')\n",
    "monkey4 = Monkey('Olga')"
   ]
  },
  {
   "cell_type": "code",
   "execution_count": 12,
   "metadata": {},
   "outputs": [
    {
     "name": "stdout",
     "output_type": "stream",
     "text": [
      "4\n"
     ]
    }
   ],
   "source": [
    "# check the class attribute\n",
    "print(monkey2.population)"
   ]
  },
  {
   "cell_type": "markdown",
   "metadata": {},
   "source": [
    "<h2>Exercise</h2>"
   ]
  },
  {
   "cell_type": "markdown",
   "metadata": {},
   "source": [
    "<p>Using the theme of a car, create a class that has a fuel, drive and park method, and attributes for color, model, year, engine and type.</p>"
   ]
  }
 ],
 "metadata": {
  "kernelspec": {
   "display_name": "Python 3",
   "language": "python",
   "name": "python3"
  },
  "language_info": {
   "codemirror_mode": {
    "name": "ipython",
    "version": 3
   },
   "file_extension": ".py",
   "mimetype": "text/x-python",
   "name": "python",
   "nbconvert_exporter": "python",
   "pygments_lexer": "ipython3",
   "version": "3.8.5"
  }
 },
 "nbformat": 4,
 "nbformat_minor": 4
}
