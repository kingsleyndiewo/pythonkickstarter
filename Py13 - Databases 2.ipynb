{
 "cells": [
  {
   "cell_type": "markdown",
   "metadata": {},
   "source": [
    "<h1>Databases II</h1>"
   ]
  },
  {
   "cell_type": "markdown",
   "metadata": {},
   "source": [
    "<p>After working with SQLite, we will now move to a more advanced database system - PostgreSQL. Unlike SQLite, this database has a server application and does not exist in a file or RAM.</p>"
   ]
  },
  {
   "cell_type": "markdown",
   "metadata": {},
   "source": [
    "<p>Install PostgreSQL as directed</p>"
   ]
  },
  {
   "cell_type": "markdown",
   "metadata": {},
   "source": [
    "<h2>PIP package manager</h2>"
   ]
  },
  {
   "cell_type": "markdown",
   "metadata": {},
   "source": [
    "<p>One of the most popular and common package managers for Python is PIP. A package manager allows a programmer to install 3rd-party modules into Python, extending the functionality available to programs. We will use PIP to install a package that Python can use to connect to a PostgreSQL server, as this functionality is not available by default.\n",
    "From your terminal run:<br/>\n",
    "    <b>pip install psycopg2</b>\n",
    "</p>"
   ]
  },
  {
   "cell_type": "markdown",
   "metadata": {},
   "source": [
    "<h2>Create a Database</h2>"
   ]
  },
  {
   "cell_type": "code",
   "execution_count": 1,
   "metadata": {},
   "outputs": [],
   "source": [
    "# get the relevant module\n",
    "import psycopg2"
   ]
  },
  {
   "cell_type": "code",
   "execution_count": 2,
   "metadata": {},
   "outputs": [],
   "source": [
    "# queries to create the relevant tables\n",
    "createAccountsQry = '''\n",
    "CREATE SEQUENCE IF NOT EXISTS public.vb_accounts_acc_id_seq\n",
    "    INCREMENT 1\n",
    "    START 1\n",
    "    MINVALUE 1\n",
    "    MAXVALUE 2147483647\n",
    "    CACHE 1;\n",
    "\n",
    "ALTER SEQUENCE public.vb_accounts_acc_id_seq\n",
    "    OWNER TO gini;\n",
    "    \n",
    "CREATE TABLE IF NOT EXISTS public.vb_accounts\n",
    "(\n",
    "    acc_id integer NOT NULL DEFAULT nextval('public.vb_accounts_acc_id_seq'::regclass),\n",
    "    acc_ctime timestamp with time zone NOT NULL DEFAULT now(),\n",
    "    acc_name character varying(100) COLLATE pg_catalog.\"default\" NOT NULL,\n",
    "    acc_nat_id character varying(8) COLLATE pg_catalog.\"default\" NOT NULL,\n",
    "    acc_code character varying(8) COLLATE pg_catalog.\"default\" NOT NULL,\n",
    "    acc_age integer NOT NULL,\n",
    "    acc_amount double precision NOT NULL DEFAULT 0.0,\n",
    "    acc_pass character varying(100) COLLATE pg_catalog.\"default\" NOT NULL,\n",
    "    acc_active boolean NOT NULL DEFAULT true,\n",
    "    acc_last_login timestamp with time zone,\n",
    "    CONSTRAINT vb_accounts_pkey PRIMARY KEY (acc_id),\n",
    "    CONSTRAINT vb_accounts_acc_name_key UNIQUE (acc_name),\n",
    "    CONSTRAINT vb_accounts_acc_code_key UNIQUE (acc_code)\n",
    ")\n",
    "WITH (\n",
    "    OIDS = FALSE\n",
    ")\n",
    "TABLESPACE pg_default;\n",
    "\n",
    "ALTER TABLE public.vb_accounts\n",
    "    OWNER to gini;\n",
    "'''\n",
    "\n",
    "createTransactionsQry = '''\n",
    "CREATE SEQUENCE IF NOT EXISTS public.vb_transactions_tx_id_seq\n",
    "    INCREMENT 1\n",
    "    START 1\n",
    "    MINVALUE 1\n",
    "    MAXVALUE 2147483647\n",
    "    CACHE 1;\n",
    "\n",
    "ALTER SEQUENCE public.vb_transactions_tx_id_seq\n",
    "    OWNER TO gini;\n",
    "    \n",
    "CREATE TABLE IF NOT EXISTS public.vb_transactions\n",
    "(\n",
    "    tx_id integer NOT NULL DEFAULT nextval('public.vb_transactions_tx_id_seq'::regclass),\n",
    "    tx_ctime timestamp with time zone NOT NULL DEFAULT now(),\n",
    "    tx_ref character varying(10) COLLATE pg_catalog.\"default\" NOT NULL,\n",
    "    tx_account integer NOT NULL,\n",
    "    tx_type character varying(40) COLLATE pg_catalog.\"default\" NOT NULL,\n",
    "    tx_amount double precision NOT NULL DEFAULT 0.0,\n",
    "    tx_narrative text COLLATE pg_catalog.\"default\" NOT NULL,\n",
    "    CONSTRAINT vb_transactions_pkey PRIMARY KEY (tx_id),\n",
    "    CONSTRAINT vb_transactions_tx_ref_key UNIQUE (tx_ref),\n",
    "    CONSTRAINT tx_account FOREIGN KEY (tx_account)\n",
    "        REFERENCES public.vb_accounts (acc_id) MATCH SIMPLE\n",
    "        ON UPDATE NO ACTION\n",
    "        ON DELETE NO ACTION\n",
    ")\n",
    "WITH (\n",
    "    OIDS = FALSE\n",
    ")\n",
    "TABLESPACE pg_default;\n",
    "\n",
    "ALTER TABLE public.vb_transactions\n",
    "    OWNER to gini;\n",
    "'''"
   ]
  },
  {
   "cell_type": "code",
   "execution_count": 3,
   "metadata": {},
   "outputs": [],
   "source": [
    "# connect to the database\n",
    "def connectToDB(dbName='virtualbank', dbUser='youruser', dbPort=5432, dbPassword='yourpassword', dbHost='localhost'):\n",
    "    # make the connection\n",
    "    return psycopg2.connect(database=dbName, user=dbUser, host=dbHost, password=dbPassword, port=dbPort)\n",
    "vbConn = connectToDB()\n",
    "# get the cursor\n",
    "vbCursor = vbConn.cursor()"
   ]
  },
  {
   "cell_type": "code",
   "execution_count": 4,
   "metadata": {},
   "outputs": [],
   "source": [
    "# execute the create queries\n",
    "vbCursor.execute(createAccountsQry)\n",
    "vbCursor.execute(createTransactionsQry)"
   ]
  },
  {
   "cell_type": "code",
   "execution_count": 5,
   "metadata": {},
   "outputs": [],
   "source": [
    "# commit changes\n",
    "vbConn.commit()"
   ]
  },
  {
   "cell_type": "markdown",
   "metadata": {},
   "source": [
    "<h2>Class Exercise</h2>"
   ]
  },
  {
   "cell_type": "markdown",
   "metadata": {},
   "source": [
    "<p>Using the queries as in the SQLite session, create some accounts, read them from the database, update a record and delete a record.</p>"
   ]
  }
 ],
 "metadata": {
  "kernelspec": {
   "display_name": "Python 3",
   "language": "python",
   "name": "python3"
  },
  "language_info": {
   "codemirror_mode": {
    "name": "ipython",
    "version": 3
   },
   "file_extension": ".py",
   "mimetype": "text/x-python",
   "name": "python",
   "nbconvert_exporter": "python",
   "pygments_lexer": "ipython3",
   "version": "3.8.5"
  }
 },
 "nbformat": 4,
 "nbformat_minor": 4
}
