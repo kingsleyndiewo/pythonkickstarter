{
 "cells": [
  {
   "cell_type": "markdown",
   "metadata": {},
   "source": [
    "<h1>Classes 3</h1>"
   ]
  },
  {
   "cell_type": "markdown",
   "metadata": {},
   "source": [
    "<h2>Polymorphism</h2>"
   ]
  },
  {
   "cell_type": "markdown",
   "metadata": {},
   "source": [
    "<p>From biology, we know that children get traits from both their parents. Similarly, classes can inherit from more than one parent class.</p>"
   ]
  },
  {
   "cell_type": "code",
   "execution_count": 1,
   "metadata": {},
   "outputs": [],
   "source": [
    "# class definition for GermanShepherd class\n",
    "class GermanShepherd:\n",
    "    \"\"\" A class that defines GermanShepherd objects \"\"\"\n",
    "    # class attribute\n",
    "    __population = 0\n",
    "    # the class constructor\n",
    "    def __init__(self, name):\n",
    "        # assign the name in the constructor \n",
    "        self.name = name\n",
    "        self.skills = ['Acting', 'Assistance', 'Police', 'Military', 'Search', 'Rescue']\n",
    "        self.color = 'Varies'\n",
    "        # increment the population\n",
    "        GermanShepherd.__population += 1\n",
    "        # print creation message\n",
    "        print(f'A German Shepherd named {self.name} was created')\n",
    "        \n",
    "    # a method that sets the animal's name\n",
    "    def editName(self, name):\n",
    "        # set the value of the attribute name\n",
    "        self.name = name\n",
    "        \n",
    "    # a method for acting\n",
    "    def actRole(self):\n",
    "        print(f'{self.name} performed an entertaining trick')"
   ]
  },
  {
   "cell_type": "code",
   "execution_count": 2,
   "metadata": {},
   "outputs": [],
   "source": [
    "# class definition for Rottweiler class\n",
    "class Rottweiler:\n",
    "    \"\"\" A class that defines Rottweiler objects \"\"\"\n",
    "    # class attribute\n",
    "    __population = 0\n",
    "    # the class constructor\n",
    "    def __init__(self, name):\n",
    "        # assign the name in the constructor \n",
    "        self.name = name\n",
    "        self.skills = ['Guard', 'Police', 'Search', 'Rescue']\n",
    "        self.color = 'Black'\n",
    "        # increment the population\n",
    "        Rottweiler.__population += 1\n",
    "        # print creation message\n",
    "        print(f'A Rottweiler named {self.name} was created')\n",
    "        \n",
    "    # a method that sets the animal's name\n",
    "    def editName(self, name):\n",
    "        # set the value of the attribute name\n",
    "        self.name = name\n",
    "        \n",
    "    def guardArea(self):\n",
    "        print(f'{self.name} patrolled the selected area')"
   ]
  },
  {
   "cell_type": "code",
   "execution_count": 3,
   "metadata": {},
   "outputs": [],
   "source": [
    "# class definition for cross-bred dog\n",
    "class CrossBreed(GermanShepherd, Rottweiler):\n",
    "    \"\"\" A class that defines CrossBreed objects \"\"\"\n",
    "    # class attribute\n",
    "    __population = 0\n",
    "    # the class constructor\n",
    "    def __init__(self, name):\n",
    "        # explicitly calls ancestral constructors\n",
    "        # this will call the GermanShepherd constructor because GermanShepherd was inherited first\n",
    "        super().__init__(name)\n",
    "        # this instructs Python to call constructors after GermanShepherd i.e Rottweiler\n",
    "        super(GermanShepherd, self).__init__(name)\n",
    "        # increment the population\n",
    "        CrossBreed.__population += 1"
   ]
  },
  {
   "cell_type": "code",
   "execution_count": 4,
   "metadata": {},
   "outputs": [
    {
     "name": "stdout",
     "output_type": "stream",
     "text": [
      "A German Shepherd named Sammy was created\n",
      "A Rottweiler named Bosco was created\n",
      "A German Shepherd named Jack was created\n",
      "A Rottweiler named Jack was created\n"
     ]
    }
   ],
   "source": [
    "# create a German Shepherd\n",
    "dog1 = GermanShepherd('Sammy')\n",
    "# create a Rottweiler\n",
    "dog2 = Rottweiler('Bosco')\n",
    "# create a CrossBreed\n",
    "dog3 = CrossBreed('Jack')"
   ]
  },
  {
   "cell_type": "code",
   "execution_count": 5,
   "metadata": {},
   "outputs": [
    {
     "name": "stdout",
     "output_type": "stream",
     "text": [
      "2\n",
      "2\n",
      "1\n"
     ]
    }
   ],
   "source": [
    "# check populations\n",
    "print(dog1._GermanShepherd__population)\n",
    "print(dog2._Rottweiler__population)\n",
    "print(dog3._CrossBreed__population)"
   ]
  },
  {
   "cell_type": "markdown",
   "metadata": {},
   "source": [
    "<p>Note that Python evaluates ancestral methods and attributes in left-to-right order. To see the Multiple Resolution Order for the CrossBreed class, we can use its mro method.</p>"
   ]
  },
  {
   "cell_type": "code",
   "execution_count": 6,
   "metadata": {},
   "outputs": [
    {
     "data": {
      "text/plain": [
       "[__main__.CrossBreed, __main__.GermanShepherd, __main__.Rottweiler, object]"
      ]
     },
     "execution_count": 6,
     "metadata": {},
     "output_type": "execute_result"
    }
   ],
   "source": [
    "CrossBreed.mro()"
   ]
  },
  {
   "cell_type": "markdown",
   "metadata": {},
   "source": [
    "<p>When we call a method on an instance of CrossBreed, the MRO list above shows us where Python will look for that method. If it is not found in all these objects, then an error will be raised.</p>"
   ]
  },
  {
   "cell_type": "code",
   "execution_count": 7,
   "metadata": {},
   "outputs": [
    {
     "name": "stdout",
     "output_type": "stream",
     "text": [
      "Jack performed an entertaining trick\n",
      "Jack patrolled the selected area\n"
     ]
    }
   ],
   "source": [
    "# call methods on CrossBreed to show multiple inheritance\n",
    "dog3.actRole()\n",
    "dog3.guardArea()"
   ]
  }
 ],
 "metadata": {
  "kernelspec": {
   "display_name": "Python 3",
   "language": "python",
   "name": "python3"
  },
  "language_info": {
   "codemirror_mode": {
    "name": "ipython",
    "version": 3
   },
   "file_extension": ".py",
   "mimetype": "text/x-python",
   "name": "python",
   "nbconvert_exporter": "python",
   "pygments_lexer": "ipython3",
   "version": "3.8.10"
  }
 },
 "nbformat": 4,
 "nbformat_minor": 4
}
