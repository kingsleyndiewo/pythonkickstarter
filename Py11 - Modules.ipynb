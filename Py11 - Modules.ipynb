{
 "cells": [
  {
   "cell_type": "markdown",
   "metadata": {},
   "source": [
    "<h1>Modules</h1>"
   ]
  },
  {
   "cell_type": "markdown",
   "metadata": {},
   "source": [
    "<p>A module is a special Python folder whose contents can be imported (referenced) into code and used. Modules are the primary way of putting useful code into collections from where it can be reused as needed without rewriting it.</p>"
   ]
  },
  {
   "cell_type": "code",
   "execution_count": 1,
   "metadata": {},
   "outputs": [],
   "source": [
    "# create a new folder and name it gini\n",
    "# inside gini create an empty file and name it __init__.py\n",
    "# create another file inside gini and call it kickstarter\n",
    "# add code to kickstarter as directed"
   ]
  },
  {
   "cell_type": "markdown",
   "metadata": {},
   "source": [
    "<p>The file __init__.py is included in any module to indicate to Python that it is a module and not just an ordinary folder</p>"
   ]
  },
  {
   "cell_type": "code",
   "execution_count": 2,
   "metadata": {},
   "outputs": [],
   "source": [
    "# import the kickstarter namespace from the gini module\n",
    "from gini import kickstarter"
   ]
  },
  {
   "cell_type": "code",
   "execution_count": 3,
   "metadata": {},
   "outputs": [
    {
     "name": "stdout",
     "output_type": "stream",
     "text": [
      "County 001: MOMBASA\n",
      "County 002: KWALE\n",
      "County 003: KILIFI\n",
      "County 004: TANA RIVER\n",
      "County 005: LAMU\n",
      "County 006: TAITA TAVETA\n",
      "County 007: GARISSA\n",
      "County 008: WAJIR\n",
      "County 009: MANDERA\n",
      "County 010: MARSABIT\n",
      "County 011: ISIOLO\n",
      "County 012: MERU\n",
      "County 013: THARAKA NITHI\n",
      "County 014: EMBU\n",
      "County 015: KITUI\n",
      "County 016: MACHAKOS\n",
      "County 017: MAKUENI\n",
      "County 018: NYANDARUA\n",
      "County 019: NYERI\n",
      "County 020: KIRINYAGA\n",
      "County 021: MURANGA\n",
      "County 022: KIAMBU\n",
      "County 023: TURKANA\n",
      "County 024: WEST POKOT\n",
      "County 025: SAMBURU\n",
      "County 026: TRANS NZOIA\n",
      "County 027: UASIN GISHU\n",
      "County 028: ELGEYO MARAKWET\n",
      "County 029: NANDI\n",
      "County 030: BARINGO\n",
      "County 031: LAIKIPIA\n",
      "County 032: NAKURU\n",
      "County 033: NAROK\n",
      "County 034: KAJIADO\n",
      "County 035: KERICHO\n",
      "County 036: BOMET\n",
      "County 037: KAKAMEGA\n",
      "County 038: VIHIGA\n",
      "County 039: BUNGOMA\n",
      "County 040: BUSIA\n",
      "County 041: SIAYA\n",
      "County 042: KISUMU\n",
      "County 043: HOMA BAY\n",
      "County 044: MIGORI\n",
      "County 045: KISII\n",
      "County 046: NYAMIRA\n",
      "County 047: NAIROBI\n"
     ]
    }
   ],
   "source": [
    "# use the counties dictionary\n",
    "for name, code in kickstarter.counties.items():\n",
    "    print(f'County {code}: {name}')"
   ]
  },
  {
   "cell_type": "code",
   "execution_count": 4,
   "metadata": {},
   "outputs": [
    {
     "name": "stdout",
     "output_type": "stream",
     "text": [
      "Kenya\n"
     ]
    }
   ],
   "source": [
    "# print another global variable\n",
    "print(kickstarter.country)"
   ]
  },
  {
   "cell_type": "code",
   "execution_count": 5,
   "metadata": {},
   "outputs": [
    {
     "name": "stdout",
     "output_type": "stream",
     "text": [
      "Python Developer Kickstarter\n",
      "R Developer Kickstarter\n",
      "Basic Electronics Kickstarter\n",
      "3D Animation Kickstarter\n",
      "Extended Reality Kickstarter\n",
      "Android Developer Kickstarter\n",
      ".NET Developer Kickstarter\n"
     ]
    }
   ],
   "source": [
    "# call a function\n",
    "kickstarter.courses()"
   ]
  },
  {
   "cell_type": "code",
   "execution_count": 6,
   "metadata": {},
   "outputs": [],
   "source": [
    "# create a sub-module by creating another folder executive inside gini. As before, create an empty file and name it __init__.py\n",
    "# create another file executive.py inside executive and add code as directed"
   ]
  },
  {
   "cell_type": "code",
   "execution_count": 7,
   "metadata": {},
   "outputs": [],
   "source": [
    "# import the submodule\n",
    "from gini.executive import executive"
   ]
  },
  {
   "cell_type": "code",
   "execution_count": 8,
   "metadata": {},
   "outputs": [
    {
     "name": "stdout",
     "output_type": "stream",
     "text": [
      "Registered successfully. Your account number is BOK-01\n",
      "Registered successfully. Your account number is BOK-02\n",
      "Successfully logged in!\n",
      "Your balance is 345000 SEK\n",
      "You successfully deposited 45000 SEK\n",
      "You successfully transferred 25000 SEK to BOK-02\n",
      "Your balance is 365000 SEK\n",
      "Goodbye Annika Bolund\n",
      "Successfully logged in!\n",
      "Your balance is 325000 SEK\n",
      "Deposit of 300000 SEK. Opening balance\n",
      "Received of 25000 SEK. BOK-01 transfer to user\n",
      "Goodbye Stefan Hallengren\n",
      "Virtual Bank is now closed.\n"
     ]
    }
   ],
   "source": [
    "executive.mainLoop()"
   ]
  },
  {
   "cell_type": "code",
   "execution_count": null,
   "metadata": {},
   "outputs": [],
   "source": []
  }
 ],
 "metadata": {
  "kernelspec": {
   "display_name": "Python 3",
   "language": "python",
   "name": "python3"
  },
  "language_info": {
   "codemirror_mode": {
    "name": "ipython",
    "version": 3
   },
   "file_extension": ".py",
   "mimetype": "text/x-python",
   "name": "python",
   "nbconvert_exporter": "python",
   "pygments_lexer": "ipython3",
   "version": "3.8.10"
  }
 },
 "nbformat": 4,
 "nbformat_minor": 4
}
