{
 "cells": [
  {
   "cell_type": "markdown",
   "metadata": {},
   "source": [
    "<h2>Dictionaries</h2>"
   ]
  },
  {
   "cell_type": "code",
   "execution_count": 1,
   "metadata": {},
   "outputs": [
    {
     "name": "stdout",
     "output_type": "stream",
     "text": [
      "Mark\n",
      "82.5\n",
      "False\n"
     ]
    }
   ],
   "source": [
    "a = {'name': 'Mark', 'age': 30, 'courses': ['Maths', 'IT', 'Physics', 'Commerce', 'Swimming'], 'Weight': 82.5, 'gender': 'M', 'foreigner': False}\n",
    "print(a['name'])\n",
    "print(a['Weight'])\n",
    "print(a['foreigner'])"
   ]
  },
  {
   "cell_type": "markdown",
   "metadata": {},
   "source": [
    "<p>Dictionaries are indexed by keys, which can be any immutable type; strings\n",
    "and numbers can always be keys. Tuples can be used as keys if they contain only strings, numbers, or tuples;\n",
    "if a tuple contains any mutable object either directly or indirectly, it cannot be used as a key. You can’t use\n",
    "lists as keys, since lists can be modified in place using index assignments, slice assignments, or methods like\n",
    "append() and extend()</p>"
   ]
  },
  {
   "cell_type": "code",
   "execution_count": 2,
   "metadata": {},
   "outputs": [
    {
     "name": "stdout",
     "output_type": "stream",
     "text": [
      "{'name': 'Mark', 'age': 30, 'courses': None, 'Weight': 82.5, 'gender': 'M', 'foreigner': False, 'balance': 10000}\n"
     ]
    }
   ],
   "source": [
    "# add to a dictionary\n",
    "a['balance'] = 10000\n",
    "a['courses'] = None\n",
    "print(a)"
   ]
  },
  {
   "cell_type": "code",
   "execution_count": 3,
   "metadata": {},
   "outputs": [
    {
     "name": "stdout",
     "output_type": "stream",
     "text": [
      "{'name': 'Mark', 'age': 30, 'courses': None, 'gender': 'M', 'foreigner': False, 'balance': 10000}\n"
     ]
    }
   ],
   "source": [
    "# delete from a dictionary\n",
    "del a['Weight']\n",
    "print(a)"
   ]
  },
  {
   "cell_type": "code",
   "execution_count": 4,
   "metadata": {},
   "outputs": [
    {
     "data": {
      "text/plain": [
       "['name', 'age', 'courses', 'gender', 'foreigner', 'balance']"
      ]
     },
     "execution_count": 4,
     "metadata": {},
     "output_type": "execute_result"
    }
   ],
   "source": [
    "# get a list of all keys\n",
    "list(a)"
   ]
  },
  {
   "cell_type": "code",
   "execution_count": 5,
   "metadata": {},
   "outputs": [
    {
     "name": "stdout",
     "output_type": "stream",
     "text": [
      "False\n",
      "True\n"
     ]
    }
   ],
   "source": [
    "# check if a key exists in the dictionary\n",
    "print('weight' in a)\n",
    "print('age' in a)"
   ]
  },
  {
   "cell_type": "code",
   "execution_count": 6,
   "metadata": {},
   "outputs": [
    {
     "name": "stdout",
     "output_type": "stream",
     "text": [
      "dict_items([('name', 'Mark'), ('age', 30), ('courses', None), ('gender', 'M'), ('foreigner', False), ('balance', 10000)])\n"
     ]
    }
   ],
   "source": [
    "print(a.items())"
   ]
  },
  {
   "cell_type": "code",
   "execution_count": 7,
   "metadata": {},
   "outputs": [
    {
     "name": "stdout",
     "output_type": "stream",
     "text": [
      "[('name', 'Mark'), ('age', 30), ('courses', None), ('gender', 'M'), ('foreigner', False), ('balance', 10000)]\n"
     ]
    }
   ],
   "source": [
    "# we can see this as a list by converting\n",
    "print(list(a.items()))"
   ]
  },
  {
   "cell_type": "code",
   "execution_count": 8,
   "metadata": {},
   "outputs": [
    {
     "name": "stdout",
     "output_type": "stream",
     "text": [
      "name: Mark\n",
      "age: 30\n",
      "courses: None\n",
      "gender: M\n",
      "foreigner: False\n",
      "balance: 10000\n"
     ]
    }
   ],
   "source": [
    "# loop through the dictionary items\n",
    "for k, v in a.items():\n",
    "    # print('{}: {}'.format(k,v)) for Python < 3.6\n",
    "    print(f'{k}: {v}')"
   ]
  },
  {
   "cell_type": "code",
   "execution_count": 9,
   "metadata": {},
   "outputs": [
    {
     "name": "stdout",
     "output_type": "stream",
     "text": [
      "0 name : Mark\n",
      "1 age : 30\n",
      "2 courses : None\n",
      "3 gender : M\n",
      "4 foreigner : False\n",
      "5 balance : 10000\n"
     ]
    }
   ],
   "source": [
    "# enumerate\n",
    "for i, t in enumerate(a.items()):\n",
    "    print(f'{i} {t[0]} : {t[1]}')"
   ]
  },
  {
   "cell_type": "code",
   "execution_count": 10,
   "metadata": {},
   "outputs": [
    {
     "name": "stdout",
     "output_type": "stream",
     "text": [
      "{'a': 1, 'b': 2, 'c': 3, 'd': 4, 'e': 5, 'f': 6, 'g': 7, 'h': 8, 'i': 9, 'j': 10, 'k': 11, 'l': 12, 'm': 13, 'n': 14, 'o': 15, 'p': 16, 'q': 17, 'r': 18, 's': 19, 't': 20, 'u': 21, 'v': 22, 'w': 23, 'x': 24, 'y': 25, 'z': 26}\n"
     ]
    }
   ],
   "source": [
    "# generate a dictionary from the alphabet\n",
    "alphabet = {}\n",
    "for x in range(26):\n",
    "    # create the element\n",
    "    alphabet[chr(97 + x)] = (x + 1)\n",
    "print(alphabet)"
   ]
  }
 ],
 "metadata": {
  "kernelspec": {
   "display_name": "Python 3",
   "language": "python",
   "name": "python3"
  },
  "language_info": {
   "codemirror_mode": {
    "name": "ipython",
    "version": 3
   },
   "file_extension": ".py",
   "mimetype": "text/x-python",
   "name": "python",
   "nbconvert_exporter": "python",
   "pygments_lexer": "ipython3",
   "version": "3.8.5"
  }
 },
 "nbformat": 4,
 "nbformat_minor": 4
}
