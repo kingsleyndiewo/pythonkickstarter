{
 "cells": [
  {
   "cell_type": "markdown",
   "metadata": {},
   "source": [
    "<h2>Project 1 - Virtual Bank 1.0</h2>"
   ]
  },
  {
   "cell_type": "markdown",
   "metadata": {},
   "source": [
    "<p>A simulation of a bank with registration of users, authentication and transactions</p>\n",
    "<p>Demonstrates usage of already covered concepts - <b>sequence, selection, repetition</b> - and data structures - <b>lists, dictionaries</b> - in a class project.</p>"
   ]
  },
  {
   "cell_type": "code",
   "execution_count": 1,
   "metadata": {},
   "outputs": [
    {
     "name": "stdin",
     "output_type": "stream",
     "text": [
      "Please select an option:\n",
      "1. Register\n",
      "2. Login\n",
      "3. Exit\n",
      ":  1\n",
      "Please enter your full name:  John Kiriamiti\n",
      "Please enter your age in years:  23\n",
      "Please enter your national ID number:  23399032\n",
      "Please enter your initial account balance:  3400\n",
      "Please enter a password for your account:  kiriamiti\n"
     ]
    },
    {
     "name": "stdout",
     "output_type": "stream",
     "text": [
      "Registered successfully. Your account number is BOK-01\n"
     ]
    },
    {
     "name": "stdin",
     "output_type": "stream",
     "text": [
      "Please select an option:\n",
      "1. Register\n",
      "2. Login\n",
      "3. Exit\n",
      ":  1\n",
      "Please enter your full name:  Mary Wairimu\n",
      "Please enter your age in years:  26\n",
      "Please enter your national ID number:  120392333\n",
      "Please enter your initial account balance:  1000\n",
      "Please enter a password for your account:  wairimu\n"
     ]
    },
    {
     "name": "stdout",
     "output_type": "stream",
     "text": [
      "Registered successfully. Your account number is BOK-02\n"
     ]
    },
    {
     "name": "stdin",
     "output_type": "stream",
     "text": [
      "Please select an option:\n",
      "1. Register\n",
      "2. Login\n",
      "3. Exit\n",
      ":  2\n",
      "Please enter your account number:  BOK-01\n",
      "Please enter your password:  kiriamiti\n"
     ]
    },
    {
     "name": "stdout",
     "output_type": "stream",
     "text": [
      "Successfully logged in!\n"
     ]
    },
    {
     "name": "stdin",
     "output_type": "stream",
     "text": [
      "Please select an option:\n",
      "1. Check Balance\n",
      "2. Deposit Funds\n",
      "3. Withdraw Funds\n",
      "4. Transfer Funds\n",
      "5. Last 5 transactions\n",
      "6. Logout\n",
      ":  1\n"
     ]
    },
    {
     "name": "stdout",
     "output_type": "stream",
     "text": [
      "Your balance is 3400 KES\n"
     ]
    },
    {
     "name": "stdin",
     "output_type": "stream",
     "text": [
      "Please select an option:\n",
      "1. Check Balance\n",
      "2. Deposit Funds\n",
      "3. Withdraw Funds\n",
      "4. Transfer Funds\n",
      "5. Last 5 transactions\n",
      "6. Logout\n",
      ":  2\n",
      "Please enter an amount to deposit:  20450\n"
     ]
    },
    {
     "name": "stdout",
     "output_type": "stream",
     "text": [
      "You successfully deposited 20450 KES\n"
     ]
    },
    {
     "name": "stdin",
     "output_type": "stream",
     "text": [
      "Please select an option:\n",
      "1. Check Balance\n",
      "2. Deposit Funds\n",
      "3. Withdraw Funds\n",
      "4. Transfer Funds\n",
      "5. Last 5 transactions\n",
      "6. Logout\n",
      ":  1\n"
     ]
    },
    {
     "name": "stdout",
     "output_type": "stream",
     "text": [
      "Your balance is 23850 KES\n"
     ]
    },
    {
     "name": "stdin",
     "output_type": "stream",
     "text": [
      "Please select an option:\n",
      "1. Check Balance\n",
      "2. Deposit Funds\n",
      "3. Withdraw Funds\n",
      "4. Transfer Funds\n",
      "5. Last 5 transactions\n",
      "6. Logout\n",
      ":  6\n"
     ]
    },
    {
     "name": "stdout",
     "output_type": "stream",
     "text": [
      "Goodbye John Kiriamiti\n"
     ]
    },
    {
     "name": "stdin",
     "output_type": "stream",
     "text": [
      "Please select an option:\n",
      "1. Register\n",
      "2. Login\n",
      "3. Exit\n",
      ":  3\n"
     ]
    },
    {
     "name": "stdout",
     "output_type": "stream",
     "text": [
      "Virtual Bank is now closed.\n"
     ]
    }
   ],
   "source": [
    "# global variables\n",
    "mainMenu = 'Please select an option:\\n1. Register\\n2. Login\\n3. Exit\\n: '\n",
    "userMenu = 'Please select an option:\\n1. Check Balance\\n2. Deposit Funds\\n3. Withdraw Funds\\n4. Transfer Funds\\n5. Last 5 transactions\\n6. Logout\\n: '\n",
    "accounts = {}\n",
    "ledger = {}\n",
    "accountIndex = 1\n",
    "# main while loop\n",
    "choice = int(input(mainMenu))\n",
    "while choice != 3:\n",
    "    # process choice\n",
    "    if choice == 1:\n",
    "        # register a new user\n",
    "        name = input('Please enter your full name: ')\n",
    "        age = input('Please enter your age in years: ')\n",
    "        nationalID = input('Please enter your national ID number: ')\n",
    "        balance = input('Please enter your initial account balance: ')\n",
    "        passwd = input('Please enter a password for your account: ')\n",
    "        accNo = f'BOK-0{accountIndex}'\n",
    "        # save record to accounts dictionary\n",
    "        accounts[accNo] = [name, int(age), nationalID, int(balance), passwd]\n",
    "        # save deposit transaction to ledger dictionary\n",
    "        ledger[accNo] = []\n",
    "        ledger[accNo].append(('Deposit', balance, 'Opening balance'))\n",
    "        print(f'Registered successfully. Your account number is {accNo}')\n",
    "        # increment\n",
    "        accountIndex += 1\n",
    "    elif choice == 2:\n",
    "        # ask for credentials and login\n",
    "        accNo = input('Please enter your account number: ')\n",
    "        passwd = input('Please enter your password: ')\n",
    "        # check whether key exists\n",
    "        if accNo not in accounts:\n",
    "            print('Invalid account number')\n",
    "        else:\n",
    "            if accounts[accNo][4] != passwd:\n",
    "                print('Invalid password')\n",
    "            else:\n",
    "                print('Successfully logged in!')\n",
    "                # user while loop\n",
    "                uchoice = int(input(userMenu))\n",
    "                while uchoice != 6:\n",
    "                    # process selection\n",
    "                    if uchoice == 1:\n",
    "                        # check balance\n",
    "                        print(f'Your balance is {accounts[accNo][3]} KES')\n",
    "                    elif uchoice == 2:\n",
    "                        # make a deposit\n",
    "                        amount = int(input('Please enter an amount to deposit: '))\n",
    "                        # save to accounts\n",
    "                        accounts[accNo][3] += amount\n",
    "                        # save to ledger\n",
    "                        ledger[accNo].append(('Deposit', amount, 'User deposit'))\n",
    "                        print(f'You successfully deposited {amount} KES')\n",
    "                    elif uchoice == 3:\n",
    "                        # make a withdrawal\n",
    "                        amount = int(input('Please enter an amount to withdraw: '))\n",
    "                        if amount > accounts[accNo][3]:\n",
    "                            print(f'Insufficient funds to withdraw {amount} KES, your balance is {accounts[accNo][3]} KES')\n",
    "                        else:\n",
    "                            # save to accounts\n",
    "                            accounts[accNo][3] -= amount\n",
    "                            # save to ledger\n",
    "                            ledger[accNo].append(('Withdrawal', amount, 'User withdrawal'))\n",
    "                            print(f'You successfully withdrew {amount} KES') \n",
    "                    elif uchoice == 4:\n",
    "                        # make a transfer\n",
    "                        amount = int(input('Please enter an amount to transfer: '))\n",
    "                        if amount > accounts[accNo][3]:\n",
    "                            print(f'Insufficient funds to transfer {amount} KES, your balance is {accounts[accNo][3]} KES')\n",
    "                        else:\n",
    "                            # ask for recipient\n",
    "                            rx = input('Please enter the recipient account number: ')\n",
    "                            if rx not in accounts:\n",
    "                                print('Invalid account number')\n",
    "                            else:\n",
    "                                # save to accounts\n",
    "                                accounts[accNo][3] -= amount\n",
    "                                accounts[rx][3] += amount\n",
    "                                # save to ledger\n",
    "                                ledger[accNo].append(('Transfer', amount, f'User transfer to {rx}'))\n",
    "                                ledger[rx].append(('Received', amount, f'{accNo} transfer to user'))\n",
    "                                print(f'You successfully transferred {amount} KES to {rx}') \n",
    "                    elif uchoice == 5:\n",
    "                        # show last 5 transactions\n",
    "                        for t in ledger[accNo][-5:]:\n",
    "                            # display the transaction\n",
    "                            print(f'{t[0]} of {t[1]} KES. {t[2]}')\n",
    "                    else:\n",
    "                        # invalid entry\n",
    "                        print('Invalid option')\n",
    "                    # get the next selection\n",
    "                    uchoice = int(input(userMenu))\n",
    "                print(f'Goodbye {accounts[accNo][0]}')\n",
    "    else:\n",
    "        # invalid entry\n",
    "        print('Invalid option')\n",
    "    # get the next choice\n",
    "    choice = int(input(mainMenu))\n",
    "print('Virtual Bank is now closed.')"
   ]
  },
  {
   "cell_type": "code",
   "execution_count": null,
   "metadata": {},
   "outputs": [],
   "source": []
  }
 ],
 "metadata": {
  "kernelspec": {
   "display_name": "Python 3",
   "language": "python",
   "name": "python3"
  },
  "language_info": {
   "codemirror_mode": {
    "name": "ipython",
    "version": 3
   },
   "file_extension": ".py",
   "mimetype": "text/x-python",
   "name": "python",
   "nbconvert_exporter": "python",
   "pygments_lexer": "ipython3",
   "version": "3.8.5"
  }
 },
 "nbformat": 4,
 "nbformat_minor": 4
}
